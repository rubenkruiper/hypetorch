{
 "cells": [
  {
   "cell_type": "code",
   "execution_count": 1,
   "metadata": {},
   "outputs": [
    {
     "name": "stdout",
     "output_type": "stream",
     "text": [
      "{'n', 'u', 'b', 't', 'e', 'r', 'o', 'm'}\n"
     ]
    }
   ],
   "source": [
    "names = [['r','u','b','e','n'], ['t','o','m']]\n",
    "\n",
    "vocab = set()\n",
    "\n",
    "for name in names:\n",
    "    vocab.update(name)\n",
    "    \n",
    "print(vocab)"
   ]
  },
  {
   "cell_type": "code",
   "execution_count": 2,
   "metadata": {},
   "outputs": [
    {
     "name": "stdout",
     "output_type": "stream",
     "text": [
      "{'n': 0, 'u': 1, 'b': 2, 't': 3, 'e': 4, 'r': 5, 'o': 6, 'm': 7}\n"
     ]
    }
   ],
   "source": [
    "char2idx = {ch:i for i, ch in enumerate(vocab)}\n",
    "idx2char = {i:ch for i, ch in enumerate(vocab)}\n",
    "\n",
    "print(char2idx)"
   ]
  },
  {
   "cell_type": "code",
   "execution_count": 20,
   "metadata": {},
   "outputs": [
    {
     "name": "stdout",
     "output_type": "stream",
     "text": [
      "[[5, 1, 2, 4, 0], [3, 6, 7]]\n"
     ]
    },
    {
     "data": {
      "text/plain": [
       "'one_hot_names_idx = []\\n\\nfor name in names_idx:\\n    buffer = []\\n    for i in name:\\n        vector = [0,0,0,0,0,0,0,0,0,0]\\n        vector[i] = 1\\n        buffer.append(vector)\\n    one_hot_names_idx.append(buffer)'"
      ]
     },
     "execution_count": 20,
     "metadata": {},
     "output_type": "execute_result"
    }
   ],
   "source": [
    "names_idx = []\n",
    "\n",
    "for name in names:\n",
    "    names_idx.append([char2idx[n] for n in name])\n",
    "\n",
    "print(names_idx)\n",
    "\n",
    "\"\"\"one_hot_names_idx = []\n",
    "\n",
    "for name in names_idx:\n",
    "    buffer = []\n",
    "    for i in name:\n",
    "        vector = [0,0,0,0,0,0,0,0,0,0]\n",
    "        vector[i] = 1\n",
    "        buffer.append(vector)\n",
    "    one_hot_names_idx.append(buffer)\"\"\""
   ]
  },
  {
   "cell_type": "code",
   "execution_count": 21,
   "metadata": {},
   "outputs": [
    {
     "data": {
      "text/plain": [
       "'for ohni in one_hot_names_idx:\\n    print(ohni)'"
      ]
     },
     "execution_count": 21,
     "metadata": {},
     "output_type": "execute_result"
    }
   ],
   "source": [
    "\"\"\"for ohni in one_hot_names_idx:\n",
    "    print(ohni)\"\"\""
   ]
  },
  {
   "cell_type": "code",
   "execution_count": 22,
   "metadata": {
    "collapsed": true
   },
   "outputs": [],
   "source": [
    "import torch\n",
    "import torch.nn as nn\n",
    "from torch.autograd import Variable"
   ]
  },
  {
   "cell_type": "code",
   "execution_count": 67,
   "metadata": {
    "collapsed": true
   },
   "outputs": [],
   "source": [
    "class CNN(nn.Module):\n",
    "    def __init__(self, input_size, embedding_size, output_size):\n",
    "        super(CNN, self).__init__()\n",
    "        \n",
    "        self.embedding = nn.Embedding(input_size, embedding_size)\n",
    "        \n",
    "        self.conv = nn.Conv2d(in_channels=1, out_channels=1, kernel_size=(2,embedding_size))\n",
    "        \n",
    "    def forward(self, x, i):\n",
    "        \n",
    "        print(x.size())\n",
    "        \n",
    "        embedded_x = self.embedding(x)\n",
    "        #embedded_i = self.embedding(i)\n",
    "        \n",
    "        print(embedded_x.size())\n",
    "        #print(embedded_i.size())\n",
    "        \n",
    "        print(i.size())\n",
    "        \n",
    "        embedded_x = torch.cat((embedded_x, i), dim=1)\n",
    "        \n",
    "        embedded_x = embedded_x.unsqueeze(0).unsqueeze(0)\n",
    "        \n",
    "        print(embedded_x.size())\n",
    "        \n",
    "        conv_x = self.conv(embedded_x)\n",
    "        \n",
    "        print(conv_x.size())\n",
    "        \n",
    "        return conv_x"
   ]
  },
  {
   "cell_type": "code",
   "execution_count": 68,
   "metadata": {
    "collapsed": true
   },
   "outputs": [],
   "source": [
    "cnn = CNN(len(vocab), 64, 2)"
   ]
  },
  {
   "cell_type": "code",
   "execution_count": 77,
   "metadata": {},
   "outputs": [
    {
     "name": "stdout",
     "output_type": "stream",
     "text": [
      "[5, 1, 2, 4, 0]\n",
      "\n",
      " 0\n",
      " 1\n",
      " 2\n",
      " 3\n",
      " 4\n",
      "[torch.FloatTensor of size 5x1]\n",
      "\n",
      "Variable containing:\n",
      " 5\n",
      " 1\n",
      " 2\n",
      " 4\n",
      " 0\n",
      "[torch.LongTensor of size 5]\n",
      "\n",
      "torch.Size([5])\n",
      "torch.Size([5, 64])\n",
      "torch.Size([5, 1])\n",
      "torch.Size([1, 1, 5, 65])\n",
      "torch.Size([1, 1, 4, 2])\n",
      "[3, 6, 7]\n",
      "\n",
      " 0\n",
      " 1\n",
      " 2\n",
      "[torch.FloatTensor of size 3x1]\n",
      "\n",
      "Variable containing:\n",
      " 3\n",
      " 6\n",
      " 7\n",
      "[torch.LongTensor of size 3]\n",
      "\n",
      "torch.Size([3])\n",
      "torch.Size([3, 64])\n",
      "torch.Size([3, 1])\n",
      "torch.Size([1, 1, 3, 65])\n",
      "torch.Size([1, 1, 2, 2])\n"
     ]
    }
   ],
   "source": [
    "for i, name in enumerate(names_idx):\n",
    "    \n",
    "        print(name)\n",
    "    \n",
    "        name_var = Variable(torch.LongTensor(name))\n",
    "        indexes = [i for i in range(len(name_var))]\n",
    "        x = torch.LongTensor(indexes)\n",
    "        x = x.unsqueeze(1).float()\n",
    "        print(x)\n",
    "        index_var = Variable(x)\n",
    "        print(name_var)\n",
    "        cnn(name_var, index_var)"
   ]
  },
  {
   "cell_type": "code",
   "execution_count": null,
   "metadata": {
    "collapsed": true
   },
   "outputs": [],
   "source": []
  },
  {
   "cell_type": "code",
   "execution_count": null,
   "metadata": {
    "collapsed": true
   },
   "outputs": [],
   "source": []
  },
  {
   "cell_type": "code",
   "execution_count": null,
   "metadata": {
    "collapsed": true
   },
   "outputs": [],
   "source": []
  },
  {
   "cell_type": "code",
   "execution_count": null,
   "metadata": {
    "collapsed": true
   },
   "outputs": [],
   "source": []
  }
 ],
 "metadata": {
  "kernelspec": {
   "display_name": "Python 3",
   "language": "python",
   "name": "python3"
  },
  "language_info": {
   "codemirror_mode": {
    "name": "ipython",
    "version": 3
   },
   "file_extension": ".py",
   "mimetype": "text/x-python",
   "name": "python",
   "nbconvert_exporter": "python",
   "pygments_lexer": "ipython3",
   "version": "3.6.2"
  }
 },
 "nbformat": 4,
 "nbformat_minor": 2
}
