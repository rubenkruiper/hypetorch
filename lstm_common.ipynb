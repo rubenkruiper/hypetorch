{
 "cells": [
  {
   "cell_type": "code",
   "execution_count": 2,
   "metadata": {
    "collapsed": true
   },
   "outputs": [],
   "source": [
    "import codecs\n",
    "import numpy as np\n",
    "from itertools import groupby\n",
    "\n",
    "EMBEDDINGS_DIM = 50"
   ]
  },
  {
   "cell_type": "code",
   "execution_count": 3,
   "metadata": {
    "collapsed": true
   },
   "outputs": [],
   "source": [
    "def load_dataset(dataset_file):\n",
    "    \"\"\"\n",
    "    Load the dataset from tab-spaced (x, y, label)\n",
    "    :param dataset_file:\n",
    "    :return:\n",
    "    \"\"\"\n",
    "    with codecs.open(dataset_file, 'r', 'utf-8') as f_in:\n",
    "        lines = [tuple(line.strip().split('\\t')) for line in f_in]\n",
    "        dataset = {(x, y) : label for (x, y, label) in lines}\n",
    "        \n",
    "    return dataset"
   ]
  },
  {
   "cell_type": "code",
   "execution_count": 4,
   "metadata": {
    "collapsed": true
   },
   "outputs": [],
   "source": [
    "def get_paths(corpus, x, y):\n",
    "    \"\"\"\n",
    "    Get the paths that connect x and y in the corpus\n",
    "    :param corpus: the corpus' resource object\n",
    "    :param x:\n",
    "    :param y:\n",
    "    :return:\n",
    "    \"\"\"\n",
    "    x_to_y_paths = corpus.get_relations(x, y)\n",
    "    y_to_x_paths = corpus.get_relations(y, x)\n",
    "    paths = {corpus.get_path_by_id(path) : count for (path, count) in x_to_y_paths.iteritems()}\n",
    "    paths.update({ corpus.get_path_by_id(path).replace('X/', '@@@').replace('Y/', 'X/').replace('@@@', 'Y/') : \n",
    "                  count for (path, count) in y_to_x_paths.iteritems() })\n",
    "    \n",
    "    return paths"
   ]
  },
  {
   "cell_type": "code",
   "execution_count": 5,
   "metadata": {
    "collapsed": true
   },
   "outputs": [],
   "source": [
    "def vectorize_path(path, lemma_index, pos_index, dep_index, dir_index):\n",
    "    \"\"\"\n",
    "    Return a vector representation of the path\n",
    "    :param path:\n",
    "    :param lemma_index:\n",
    "    :param pos_index:\n",
    "    :param dep_index:\n",
    "    :param dir_index:\n",
    "    :return:\n",
    "    \"\"\"\n",
    "    path_edges = [vectorize_edge(edge, lemma_index, pos_index, dep_index, dir_index) for edge in path.split('_')]\n",
    "    if None in path_edges:\n",
    "        return None\n",
    "    else:\n",
    "        return tuple(path_edges)"
   ]
  },
  {
   "cell_type": "code",
   "execution_count": 6,
   "metadata": {
    "collapsed": true
   },
   "outputs": [],
   "source": [
    "def vectorize_edge(edge, lemma_index, pos_index, dep_index, dir_index):\n",
    "    \"\"\"\n",
    "    Return a vector representation of the edge: concatenate lemma/pos/dep and add direction symbols\n",
    "    :param edge:\n",
    "    :param lemma_index:\n",
    "    :param pos_index:\n",
    "    :param dep_index:\n",
    "    :param dir_index:\n",
    "    :return:\n",
    "    \"\"\"\n",
    "    direction = ' '\n",
    "\n",
    "    # Get the direction\n",
    "    if edge.startswith('<') or edge.startswith('>'):\n",
    "        direction = 's' + edge[0]\n",
    "        edge = edge[1:]\n",
    "    elif edge.endswith('<') or edge.endswith('>'):\n",
    "        direction = 'e' + edge[-1]\n",
    "        edge = edge[:-1]\n",
    "\n",
    "    try:\n",
    "        lemma, pos, dep = edge.split('/')\n",
    "    except:\n",
    "        return None\n",
    "\n",
    "    return tuple([lemma_index.get(lemma, 0), pos_index[pos], dep_index[dep], dir_index[direction]])"
   ]
  },
  {
   "cell_type": "code",
   "execution_count": 15,
   "metadata": {},
   "outputs": [],
   "source": [
    "data = load_dataset('dataset/lex/test.tsv')"
   ]
  },
  {
   "cell_type": "markdown",
   "metadata": {},
   "source": [
    "#### Test lstm implemtenation"
   ]
  },
  {
   "cell_type": "code",
   "execution_count": null,
   "metadata": {
    "collapsed": true
   },
   "outputs": [],
   "source": []
  }
 ],
 "metadata": {
  "kernelspec": {
   "display_name": "Python [conda env:pair]",
   "language": "python",
   "name": "conda-env-pair-py"
  },
  "language_info": {
   "codemirror_mode": {
    "name": "ipython",
    "version": 3
   },
   "file_extension": ".py",
   "mimetype": "text/x-python",
   "name": "python",
   "nbconvert_exporter": "python",
   "pygments_lexer": "ipython3",
   "version": "3.6.2"
  }
 },
 "nbformat": 4,
 "nbformat_minor": 2
}
