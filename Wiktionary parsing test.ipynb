{
 "cells": [
  {
   "cell_type": "code",
   "execution_count": 3,
   "metadata": {},
   "outputs": [],
   "source": [
    "from wiktionaryparser import WiktionaryParser\n"
   ]
  },
  {
   "cell_type": "code",
   "execution_count": 8,
   "metadata": {
    "collapsed": true
   },
   "outputs": [],
   "source": [
    "parser = WiktionaryParser()\n",
    "word = parser.fetch('cell')\n",
    "another_word = parser.fetch('bioloy', 'english')\n",
    "parser.set_default_language('english')"
   ]
  },
  {
   "cell_type": "code",
   "execution_count": 9,
   "metadata": {
    "collapsed": true
   },
   "outputs": [],
   "source": [
    "data = './dataset/enwiktionary-latest-all-titles'"
   ]
  },
  {
   "cell_type": "code",
   "execution_count": 19,
   "metadata": {},
   "outputs": [
    {
     "name": "stdout",
     "output_type": "stream",
     "text": [
      "{'etymology': 'From Middle English celle, selle, from Old English *cella (attested in inflected forms), from Latin cella (“chamber, small room, compartment”), later reinforced by Anglo-Norman cel, sele, Old French cele.', 'definitions': [{'partOfSpeech': 'noun', 'text': \"cell (plural cells)\\nA single-room dwelling for a hermit. [from 10th c.]1596, Edmund Spenser, The Faerie Queene, VI.6:So, taking them apart into his cell, / He to that point fit speaches gan to frame […].\\n1596, Edmund Spenser, The Faerie Queene, VI.6:So, taking them apart into his cell, / He to that point fit speaches gan to frame […].\\n(now  historical) A small monastery or nunnery dependent on a larger religious establishment. [from 11th c.]\\nA small room in a monastery or nunnery accommodating one person. [from 14th c.]Gregor Mendel must have spent a good amount of time outside of his cell.\\nEach of the small hexagonal compartments in a honeycomb. [from 14th c.]\\n(biology, now  chiefly  botany) Any of various chambers in a tissue or organism having specific functions. [from 14th c.]1858, Asa Gray, Introduction to Structural and Systematic Botany, fifth edition, p. 282:Each of the two cells or lobes of the anther is marked with a lateral line or furrow, running from top to bottom\\xa0[…].\\n1858, Asa Gray, Introduction to Structural and Systematic Botany, fifth edition, p. 282:Each of the two cells or lobes of the anther is marked with a lateral line or furrow, running from top to bottom\\xa0[…].\\n(obsolete) Specifically, any of the supposed compartments of the brain, formerly thought to be the source of specific mental capacities, knowledge, or memories. [14th-19th c.]1890,  Oscar Wilde,  chapter XVI, in  The Picture of Dorian Gray:From cell to cell of his brain crept the one thought; and the wild desire to live, most terrible of all man's appetites, quickened into force each trembling nerve and fibre.\\n1890,  Oscar Wilde,  chapter XVI, in  The Picture of Dorian Gray:From cell to cell of his brain crept the one thought; and the wild desire to live, most terrible of all man's appetites, quickened into force each trembling nerve and fibre.\\nA section or compartment of a larger structure. [from 16th c.]\\n(obsolete, chiefly  literary) Any small dwelling; a remote nook, a den. [16th-19th c.]1603,  John Florio, transl.; Michel de Montaigne,  Essayes, London: Edward Blount, OCLC 946730821:, II.12:Thou seest but the order and policie of this little Cell [transl. caveau] wherein thou art placed\\xa0[…].1810, Walter Scott, Lady of the Lake, II:Not long shall honour'd Douglas dwell, / Like hunted stag, in mountain-cell\\xa0[…].\\n1603,  John Florio, transl.; Michel de Montaigne,  Essayes, London: Edward Blount, OCLC 946730821:, II.12:Thou seest but the order and policie of this little Cell [transl. caveau] wherein thou art placed\\xa0[…].\\n1810, Walter Scott, Lady of the Lake, II:Not long shall honour'd Douglas dwell, / Like hunted stag, in mountain-cell\\xa0[…].\\nA room in a prison or jail for one or more inmates. [from 18th c.]The combatants spent the night in separate cells.\\nA device which stores electrical power; used either singly or together in batteries; the basic unit of a battery. [from 19th c.]This MP3 player runs on 2 AAA cells.\\n(biology) The basic unit of a living organism, consisting of a quantity of protoplasm surrounded by a cell membrane, which is able to synthesize proteins and replicate itself. [from 19th c.]1999, Paul Brown & Dave King, The Guardian, 15 Feb 1999:An American company has applied to experiment in Britain on Parkinson's disease sufferers by injecting their brains with cells from pigs.2011, Terence Allen & Graham Cowling, The Cell: A Very Short Introduction, Oxford 2011, p. 3:In multicellular organisms, groups of cells form tissues and tissues come together to form organs.\\n1999, Paul Brown & Dave King, The Guardian, 15 Feb 1999:An American company has applied to experiment in Britain on Parkinson's disease sufferers by injecting their brains with cells from pigs.\\n2011, Terence Allen & Graham Cowling, The Cell: A Very Short Introduction, Oxford 2011, p. 3:In multicellular organisms, groups of cells form tissues and tissues come together to form organs.\\n(meteorology) A small thunderstorm, caused by convection, that forms ahead of a storm front. [from 20th c.]There is a powerful storm cell headed our way.\\n(computing) The minimal unit of a cellular automaton that can change state and has an associated behavior. [from 20th c.]The upper right cell always starts with the color green.\\n(card games) In FreeCell-type games, a space where one card can be placed.\\nA small group of people forming part of a larger organization, often an outlawed one. [from 20th c.]Those three fellows are the local cell of that organization.\\n(communication) A short, fixed-length packet as in asynchronous transfer mode. [from 20th c.]Virtual Channel number 5 received 170 cells.\\n(communication) A region of radio reception that is a part of a larger radio network.I get good reception in my home because it is near a cell tower.\\n(geometry) A three-dimensional facet of a polytope.\\n(statistics) The unit in a statistical array (a spreadsheet, for example) where a row and a column intersect.\\n(architecture) The space between the ribs of a vaulted roof.\\n(architecture) A cella.\\n(entomology) An area of an insect wing bounded by veins\\n\", 'relatedWords': [{'relationshipType': 'synonyms', 'words': ['See also Thesaurus:cell']}, {'relationshipType': 'derived terms', 'words': ['battery cell', 'blood cell', 'brain cell', 'cancer cell', 'cellblock', 'cellbound', 'cell division', 'cell house', 'cell line', 'cellmate', 'cell membrane', 'cell theory', 'cell type', 'dry cell', 'fat cell', 'fuel cell', 'germ cell', 'helper T cell', 'host cell', 'nerve cell', 'photoconductive cell', 'photoelectric cell', 'photoemissive cell', 'photovoltaic cell', 'prison cell', 'red blood cell', 'red cell', 'sickle cell', 'skin cell', 'solar cell', 'stem cell', 'T cell']}, {'relationshipType': 'related terms', 'words': ['cellular']}, {'relationshipType': 'translations', 'words': ['Arabic: خَلِيَّة\\u200f\\u200e\\xa0f (ḵaliyya)', 'Bulgarian: клетка\\xa0(bg)\\xa0f (kletka)', 'Catalan: pila\\xa0(ca)\\xa0f', 'Chinese:\\n\\nCantonese: 電池, 电池 (din6 ci4), 電芯, 电芯 (din6 sam1)\\nMandarin: 电池\\xa0(zh), 電池\\xa0(zh) (diànchí)\\nMin Nan: 電池\\xa0(zh-min-nan), 电池 (tiān-tî)\\n\\n', 'Cornish: kell\\xa0f', 'Czech: článek\\xa0(cs)\\xa0m', 'Dutch: batterij\\xa0(nl)\\xa0f', 'Finnish: kenno\\xa0(fi), paristo\\xa0(fi)', 'French: pile\\xa0(fr)\\xa0f', 'German: Zelle\\xa0(de)\\xa0f, Batteriezelle\\xa0f', 'Greek: στοιχείο\\xa0(el)\\xa0n (stoicheío)', 'Ido: pilio\\xa0(io)', 'Japanese: セル (seru), 電池\\xa0(ja) (でんち, denchi)', 'Latvian: elements\\xa0m', 'Lithuanian: elementas\\xa0(lt)\\xa0m', 'Macedonian: батерија\\xa0f (baterija)', 'Maltese: ċellola\\xa0f', 'Polish: ogniwo\\xa0(pl)\\xa0n', 'Portuguese: célula\\xa0(pt)\\xa0f', 'Russian: батаре́йка\\xa0(ru)\\xa0f (bataréjka)', 'Swahili: seli\\xa0(sw)', 'Swedish: cell\\xa0(sv)\\xa0c, element\\xa0(sv)\\xa0n', 'Welsh: cell\\xa0(cy)\\xa0f']}], 'examples': ['Gregor Mendel must have spent a good amount of time outside of his cell.', 'The combatants spent the night in separate cells.', 'This MP3 player runs on 2 AAA cells.', 'There is a powerful storm cell headed our way.', 'The upper right cell always starts with the color green.', 'Those three fellows are the local cell of that organization.', 'Virtual Channel number 5 received 170 cells.', 'I get good reception in my home because it is near a cell tower.']}, {'partOfSpeech': 'verb', 'text': 'cell (third-person singular simple present cells, present participle celling, simple past and past participle celled)\\n(transitive) To place or enclose in a cell.WarnerCelled under ground.\\nWarnerCelled under ground.\\n', 'relatedWords': [], 'examples': []}], 'pronunciations': {'text': ['IPA: /sɛl/', 'Homophones: cel, sell'], 'audio': ['//upload.wikimedia.org/wikipedia/commons/4/4d/En-us-cell.ogg']}}\n"
     ]
    }
   ],
   "source": [
    "print(word[0])"
   ]
  },
  {
   "cell_type": "code",
   "execution_count": null,
   "metadata": {
    "collapsed": true
   },
   "outputs": [],
   "source": []
  }
 ],
 "metadata": {
  "kernelspec": {
   "display_name": "Python [conda env:pair]",
   "language": "python",
   "name": "conda-env-pair-py"
  },
  "language_info": {
   "codemirror_mode": {
    "name": "ipython",
    "version": 3
   },
   "file_extension": ".py",
   "mimetype": "text/x-python",
   "name": "python",
   "nbconvert_exporter": "python",
   "pygments_lexer": "ipython3",
   "version": "3.6.2"
  }
 },
 "nbformat": 4,
 "nbformat_minor": 2
}
