{
 "cells": [
  {
   "cell_type": "markdown",
   "metadata": {},
   "source": [
    "### Basic steps of setting up a pytorch model\n",
    "Preprocessing of data is outside the scope of this tutorial. However, the input is expect to be some torch tensor type. Therefore there are some introductory tensor and torch Variable manipulations listed below.\n",
    "1. __Working with Torch tensors__ \n",
    "2. __Working with Torch Variables__ \n",
    "3. __Computing the gradients:__ using Torch Variables\n",
    "4. __Loss function and Optimizer:__ Logistic Regression example (Cross Entropy)\n",
    "5. __Data__: Using the pytorch dataloader class\n",
    "\n",
    "6. __Building a simple model__:\n",
    "  * __STEP 1 - Define model__\n",
    "  * __STEP 2 - Instantiate model__ \n",
    "  * __STEP 3 - Loss and optimiser __ \n",
    "  * __STEP 4 - Train __ using the given loss function and optimiser\n",
    "  * __STEP 5 - Predict__ use the trained network to make predictions on unseen input. Subsequently calculate the losses, accuracy, etc..\n"
   ]
  },
  {
   "cell_type": "markdown",
   "metadata": {},
   "source": [
    "### 1 - Working with torch tensors"
   ]
  },
  {
   "cell_type": "code",
   "execution_count": 1,
   "metadata": {},
   "outputs": [
    {
     "name": "stdout",
     "output_type": "stream",
     "text": [
      "Random tensor as seed 0: \n",
      " 0.5488  0.5928\n",
      " 0.7152  0.8443\n",
      "[torch.FloatTensor of size 2x2]\n",
      "\n",
      "Different random tensor without seed 0: \n",
      " 0.6028  0.8579\n",
      " 0.5449  0.8473\n",
      "[torch.FloatTensor of size 2x2]\n",
      "\n",
      "Same tensor as the first one, because we use seed 0: \n",
      " 0.5488  0.5928\n",
      " 0.7152  0.8443\n",
      "[torch.FloatTensor of size 2x2]\n",
      "\n"
     ]
    }
   ],
   "source": [
    "import torch\n",
    "\n",
    "# every seed produces the same random array\n",
    "torch.manual_seed(0)\n",
    "tensor_1 = torch.rand(2,2)\n",
    "\n",
    "tensor_2 = torch.rand(2,2)\n",
    "\n",
    "torch.manual_seed(0)\n",
    "tensor_3 = torch.rand(2,2)\n",
    "\n",
    "print('Random tensor as seed 0:', tensor_1)\n",
    "print('Different random tensor without seed 0:',tensor_2)\n",
    "print('Same tensor as the first one, because we use seed 0:',tensor_3)\n"
   ]
  },
  {
   "cell_type": "code",
   "execution_count": 2,
   "metadata": {},
   "outputs": [
    {
     "name": "stdout",
     "output_type": "stream",
     "text": [
      "Random tensor as seed 0: \n",
      " 0.6028  0.8579\n",
      " 0.5449  0.8473\n",
      "[torch.cuda.FloatTensor of size 2x2 (GPU 0)]\n",
      "\n",
      "Random tensor as seed 0: \n",
      " 0.4237  0.6236\n",
      " 0.6459  0.3844\n",
      "[torch.cuda.FloatTensor of size 2x2 (GPU 0)]\n",
      "\n"
     ]
    }
   ],
   "source": [
    "if torch.cuda.is_available():\n",
    "    torch.cuda.manual_seed_all(0)\n",
    "    tensor_4 = torch.rand(2,2).cuda()\n",
    "\n",
    "if torch.cuda.is_available():\n",
    "    torch.cuda.manual_seed_all(0)\n",
    "    tensor_5 = torch.rand(2,2).cuda()\n",
    "    \n",
    "print('Random tensor as seed 0:', tensor_4)\n",
    "print('Random tensor as seed 0:', tensor_5)"
   ]
  },
  {
   "cell_type": "code",
   "execution_count": 3,
   "metadata": {},
   "outputs": [
    {
     "name": "stdout",
     "output_type": "stream",
     "text": [
      "<class 'torch.cuda.FloatTensor'>\n",
      "<class 'torch.FloatTensor'>\n"
     ]
    }
   ],
   "source": [
    "# Tensors on CPU vs GPU\n",
    "\n",
    "if torch.cuda.is_available():\n",
    "    tensor_1 = tensor_1.cuda()  # convert to gpu tensor with .cuda()\n",
    "\n",
    "print(type(tensor_1))\n",
    "\n",
    "tensor_1 = tensor_1.cpu()  # back to CPU with .cpu()\n",
    "print(type(tensor_1))"
   ]
  },
  {
   "cell_type": "markdown",
   "metadata": {},
   "source": [
    "#### (re)size\n"
   ]
  },
  {
   "cell_type": "code",
   "execution_count": 4,
   "metadata": {},
   "outputs": [
    {
     "name": "stdout",
     "output_type": "stream",
     "text": [
      "torch.Size([2, 2])\n",
      "\n",
      " 0.5488  0.5928\n",
      " 0.7152  0.8443\n",
      "[torch.FloatTensor of size 2x2]\n",
      "\n",
      "torch.Size([4])\n",
      "\n",
      " 0.5488\n",
      " 0.5928\n",
      " 0.7152\n",
      " 0.8443\n",
      "[torch.FloatTensor of size 4]\n",
      "\n"
     ]
    }
   ],
   "source": [
    "print(tensor_1.size())\n",
    "print(tensor_1)\n",
    "print(tensor_1.view(4).size())\n",
    "print(tensor_1.view(4))\n"
   ]
  },
  {
   "cell_type": "markdown",
   "metadata": {},
   "source": [
    "###### inplace is faster due to memory efficiency"
   ]
  },
  {
   "cell_type": "code",
   "execution_count": 5,
   "metadata": {},
   "outputs": [
    {
     "name": "stdout",
     "output_type": "stream",
     "text": [
      "5.25 µs ± 42.8 ns per loop (mean ± std. dev. of 7 runs, 100000 loops each)\n"
     ]
    }
   ],
   "source": [
    "%timeit tensor_4 - tensor_5"
   ]
  },
  {
   "cell_type": "code",
   "execution_count": 6,
   "metadata": {},
   "outputs": [
    {
     "name": "stdout",
     "output_type": "stream",
     "text": [
      "4.79 µs ± 72.8 ns per loop (mean ± std. dev. of 7 runs, 100000 loops each)\n"
     ]
    }
   ],
   "source": [
    "%timeit tensor_4.sub(tensor_5)"
   ]
  },
  {
   "cell_type": "code",
   "execution_count": 7,
   "metadata": {},
   "outputs": [
    {
     "name": "stdout",
     "output_type": "stream",
     "text": [
      "3.3 µs ± 6.72 ns per loop (mean ± std. dev. of 7 runs, 100000 loops each)\n"
     ]
    }
   ],
   "source": [
    "%timeit tensor_4.sub_(tensor_5)"
   ]
  },
  {
   "cell_type": "markdown",
   "metadata": {},
   "source": [
    "###### subtract"
   ]
  },
  {
   "cell_type": "code",
   "execution_count": 8,
   "metadata": {},
   "outputs": [
    {
     "name": "stdout",
     "output_type": "stream",
     "text": [
      "torch.Size([2, 2])\n",
      "<class 'torch.cuda.FloatTensor'>\n",
      "torch.Size([2, 2])\n"
     ]
    }
   ],
   "source": [
    "print(tensor_1.size()) \n",
    "print(type(tensor_4)) # size works the same on cuda tensors\n",
    "print(tensor_4.size())"
   ]
  },
  {
   "cell_type": "code",
   "execution_count": 9,
   "metadata": {},
   "outputs": [
    {
     "name": "stdout",
     "output_type": "stream",
     "text": [
      "\n",
      "1.00000e+05 *\n",
      " -3.4531 -5.0686\n",
      " -5.2706 -3.1224\n",
      "[torch.cuda.FloatTensor of size 2x2 (GPU 0)]\n",
      "\n",
      "\n",
      " 0.9864  0.8904\n",
      " 1.6070  0.9010\n",
      "[torch.FloatTensor of size 2x2]\n",
      "\n"
     ]
    }
   ],
   "source": [
    "print(tensor_4.add(tensor_1.cuda())) # to add two tensor, they have to be the same type\n",
    "print(tensor_1.add(torch.rand(2,2).float())) # both GPU/CPU and float/long/double"
   ]
  },
  {
   "cell_type": "code",
   "execution_count": 10,
   "metadata": {},
   "outputs": [
    {
     "name": "stdout",
     "output_type": "stream",
     "text": [
      "\n",
      "1.00000e+05 *\n",
      " -3.4531 -5.0686\n",
      " -5.2706 -3.1224\n",
      "[torch.cuda.FloatTensor of size 2x2 (GPU 0)]\n",
      "\n",
      "\n",
      "1.00000e+05 *\n",
      " -3.4531 -5.0686\n",
      " -5.2706 -3.1224\n",
      "[torch.cuda.FloatTensor of size 2x2 (GPU 0)]\n",
      "\n",
      "\n",
      "1.00000e+05 *\n",
      " -3.4531 -5.0686\n",
      " -5.2706 -3.1224\n",
      "[torch.cuda.FloatTensor of size 2x2 (GPU 0)]\n",
      "\n",
      "\n",
      "1.00000e+05 *\n",
      " -3.4531 -5.0686\n",
      " -5.2706 -3.1224\n",
      "[torch.cuda.FloatTensor of size 2x2 (GPU 0)]\n",
      "\n"
     ]
    }
   ],
   "source": [
    "print(tensor_4.sub(tensor_5))\n",
    "print(tensor_4)                 # sub subtracts tensor_4 with tensor_5 == tensor_4 - tensor_5\n",
    "print(tensor_4.sub_(tensor_5))\n",
    "print(tensor_4)                 # sub_ replaces tensor_4 with tensor_5"
   ]
  },
  {
   "cell_type": "markdown",
   "metadata": {},
   "source": [
    "###### multiply elementwise"
   ]
  },
  {
   "cell_type": "code",
   "execution_count": 11,
   "metadata": {},
   "outputs": [
    {
     "name": "stdout",
     "output_type": "stream",
     "text": [
      "tensor_4: \n",
      "1.00000e+05 *\n",
      " -3.4531 -5.0686\n",
      " -5.2706 -3.1224\n",
      "[torch.cuda.FloatTensor of size 2x2 (GPU 0)]\n",
      "\n",
      "tensor_5: \n",
      " 0.4237  0.6236\n",
      " 0.6459  0.3844\n",
      "[torch.cuda.FloatTensor of size 2x2 (GPU 0)]\n",
      "\n",
      "Multiply elementwise: \n",
      "1.00000e+05 *\n",
      " -1.4629 -3.1606\n",
      " -3.4042 -1.2002\n",
      "[torch.cuda.FloatTensor of size 2x2 (GPU 0)]\n",
      "\n",
      "Multiply elementwise: \n",
      "1.00000e+05 *\n",
      " -1.4629 -3.1606\n",
      " -3.4042 -1.2002\n",
      "[torch.cuda.FloatTensor of size 2x2 (GPU 0)]\n",
      "\n",
      "Multiply inplace: \n",
      "1.00000e+05 *\n",
      " -1.4629 -3.1606\n",
      " -3.4042 -1.2002\n",
      "[torch.cuda.FloatTensor of size 2x2 (GPU 0)]\n",
      "\n"
     ]
    }
   ],
   "source": [
    "print('tensor_4:',tensor_4)\n",
    "print('tensor_5:',tensor_5)\n",
    "# mul multiplies tensor_4 with tensor_5 == tensor_4 - tensor_5\n",
    "print('Multiply elementwise:',tensor_4.mul(tensor_5))    \n",
    "print('Multiply elementwise:',tensor_4 * tensor_5)\n",
    "    # mul_ without using additional memory \n",
    "print('Multiply inplace:',tensor_4.mul_(tensor_5))    \n",
    "    "
   ]
  },
  {
   "cell_type": "markdown",
   "metadata": {},
   "source": [
    "###### division elementwise"
   ]
  },
  {
   "cell_type": "code",
   "execution_count": 12,
   "metadata": {},
   "outputs": [
    {
     "name": "stdout",
     "output_type": "stream",
     "text": [
      "tensor_4: \n",
      "1.00000e+05 *\n",
      " -1.4629 -3.1606\n",
      " -3.4042 -1.2002\n",
      "[torch.cuda.FloatTensor of size 2x2 (GPU 0)]\n",
      "\n",
      "tensor_5: \n",
      " 0.4237  0.6236\n",
      " 0.6459  0.3844\n",
      "[torch.cuda.FloatTensor of size 2x2 (GPU 0)]\n",
      "\n",
      "Divide elementwise: \n",
      "1.00000e+05 *\n",
      " -3.4531 -5.0686\n",
      " -5.2706 -3.1224\n",
      "[torch.cuda.FloatTensor of size 2x2 (GPU 0)]\n",
      "\n",
      "Divide elementwise: \n",
      "1.00000e+05 *\n",
      " -3.4531 -5.0686\n",
      " -5.2706 -3.1224\n",
      "[torch.cuda.FloatTensor of size 2x2 (GPU 0)]\n",
      "\n",
      "Divide inplace: \n",
      "1.00000e+05 *\n",
      " -3.4531 -5.0686\n",
      " -5.2706 -3.1224\n",
      "[torch.cuda.FloatTensor of size 2x2 (GPU 0)]\n",
      "\n"
     ]
    }
   ],
   "source": [
    "print('tensor_4:',tensor_4)\n",
    "print('tensor_5:',tensor_5)\n",
    "# mul multiplies tensor_4 with tensor_5 == tensor_4 - tensor_5\n",
    "print('Divide elementwise:',tensor_4.div(tensor_5))    \n",
    "print('Divide elementwise:',tensor_4 / tensor_5)\n",
    "    # mul_ without using additional memory \n",
    "print('Divide inplace:',tensor_4.div_(tensor_5))    "
   ]
  },
  {
   "cell_type": "code",
   "execution_count": 13,
   "metadata": {},
   "outputs": [
    {
     "name": "stdout",
     "output_type": "stream",
     "text": [
      "mean: \n",
      "1.00000e+05 *\n",
      " -4.3618\n",
      " -4.0955\n",
      "[torch.cuda.FloatTensor of size 2 (GPU 0)]\n",
      "\n",
      "std deviation: \n",
      "1.00000e+05 *\n",
      "  1.2852\n",
      "  1.3762\n",
      "[torch.cuda.FloatTensor of size 2 (GPU 0)]\n",
      "\n"
     ]
    }
   ],
   "source": [
    "# mean\n",
    "print('mean:', tensor_4.mean(dim=0))\n",
    "\n",
    "# standard deviation\n",
    "print('std deviation:', tensor_4.std(dim=0))"
   ]
  },
  {
   "cell_type": "markdown",
   "metadata": {},
   "source": [
    "### 2 - Working with torch Variables\n",
    "* A variable wraps a Tensor, this enables accumulation of gradients"
   ]
  },
  {
   "cell_type": "code",
   "execution_count": 14,
   "metadata": {
    "collapsed": true
   },
   "outputs": [],
   "source": [
    "import torch\n",
    "from torch.autograd import Variable"
   ]
  },
  {
   "cell_type": "code",
   "execution_count": 15,
   "metadata": {},
   "outputs": [
    {
     "data": {
      "text/plain": [
       "Variable containing:\n",
       " 1  1\n",
       " 1  1\n",
       "[torch.FloatTensor of size 2x2]"
      ]
     },
     "execution_count": 15,
     "metadata": {},
     "output_type": "execute_result"
    }
   ],
   "source": [
    "var_a = Variable(torch.ones(2,2), requires_grad=True)\n",
    "var_a"
   ]
  },
  {
   "cell_type": "code",
   "execution_count": 16,
   "metadata": {},
   "outputs": [
    {
     "name": "stdout",
     "output_type": "stream",
     "text": [
      "Variable containing:\n",
      " 2  2\n",
      " 2  2\n",
      "[torch.FloatTensor of size 2x2]\n",
      "\n",
      "Variable containing:\n",
      " 1  1\n",
      " 1  1\n",
      "[torch.FloatTensor of size 2x2]\n",
      "\n"
     ]
    }
   ],
   "source": [
    "var_b = Variable(torch.ones(2,2), requires_grad=True)\n",
    "print(var_a + var_b)\n",
    "# same add, sub, mul, div operations can be applied \n",
    "print(torch.mul(var_a, var_b))"
   ]
  },
  {
   "cell_type": "code",
   "execution_count": 17,
   "metadata": {},
   "outputs": [
    {
     "ename": "RuntimeError",
     "evalue": "mul_ only supports scalar multiplication",
     "output_type": "error",
     "traceback": [
      "\u001b[0;31m---------------------------------------------------------------------------\u001b[0m",
      "\u001b[0;31mRuntimeError\u001b[0m                              Traceback (most recent call last)",
      "\u001b[0;32m<ipython-input-17-bcc61c2ed5cc>\u001b[0m in \u001b[0;36m<module>\u001b[0;34m()\u001b[0m\n\u001b[1;32m      1\u001b[0m \u001b[0;31m# But not in place! Why?\u001b[0m\u001b[0;34m\u001b[0m\u001b[0;34m\u001b[0m\u001b[0m\n\u001b[1;32m      2\u001b[0m \u001b[0;31m# Because \"mul_ only supports scalar multiplication\"\u001b[0m\u001b[0;34m\u001b[0m\u001b[0;34m\u001b[0m\u001b[0m\n\u001b[0;32m----> 3\u001b[0;31m \u001b[0mprint\u001b[0m\u001b[0;34m(\u001b[0m\u001b[0mvar_a\u001b[0m\u001b[0;34m.\u001b[0m\u001b[0mmul_\u001b[0m\u001b[0;34m(\u001b[0m\u001b[0mvar_b\u001b[0m\u001b[0;34m)\u001b[0m\u001b[0;34m)\u001b[0m\u001b[0;34m\u001b[0m\u001b[0m\n\u001b[0m",
      "\u001b[0;32m/scratch/anaconda3/envs/pytorch/lib/python3.6/site-packages/torch/autograd/variable.py\u001b[0m in \u001b[0;36mmul_\u001b[0;34m(self, other)\u001b[0m\n\u001b[1;32m    345\u001b[0m         \u001b[0;32mif\u001b[0m \u001b[0;32mnot\u001b[0m \u001b[0misinstance\u001b[0m\u001b[0;34m(\u001b[0m\u001b[0mother\u001b[0m\u001b[0;34m,\u001b[0m \u001b[0mVariable\u001b[0m\u001b[0;34m)\u001b[0m \u001b[0;32mand\u001b[0m \u001b[0;32mnot\u001b[0m \u001b[0mtorch\u001b[0m\u001b[0;34m.\u001b[0m\u001b[0mis_tensor\u001b[0m\u001b[0;34m(\u001b[0m\u001b[0mother\u001b[0m\u001b[0;34m)\u001b[0m\u001b[0;34m:\u001b[0m\u001b[0;34m\u001b[0m\u001b[0m\n\u001b[1;32m    346\u001b[0m             \u001b[0;32mreturn\u001b[0m \u001b[0mMulConstant\u001b[0m\u001b[0;34m.\u001b[0m\u001b[0mapply\u001b[0m\u001b[0;34m(\u001b[0m\u001b[0mself\u001b[0m\u001b[0;34m,\u001b[0m \u001b[0mother\u001b[0m\u001b[0;34m,\u001b[0m \u001b[0;32mTrue\u001b[0m\u001b[0;34m)\u001b[0m\u001b[0;34m\u001b[0m\u001b[0m\n\u001b[0;32m--> 347\u001b[0;31m         \u001b[0;32mraise\u001b[0m \u001b[0mRuntimeError\u001b[0m\u001b[0;34m(\u001b[0m\u001b[0;34m\"mul_ only supports scalar multiplication\"\u001b[0m\u001b[0;34m)\u001b[0m\u001b[0;34m\u001b[0m\u001b[0m\n\u001b[0m\u001b[1;32m    348\u001b[0m \u001b[0;34m\u001b[0m\u001b[0m\n\u001b[1;32m    349\u001b[0m     \u001b[0;32mdef\u001b[0m \u001b[0mdiv\u001b[0m\u001b[0;34m(\u001b[0m\u001b[0mself\u001b[0m\u001b[0;34m,\u001b[0m \u001b[0mother\u001b[0m\u001b[0;34m)\u001b[0m\u001b[0;34m:\u001b[0m\u001b[0;34m\u001b[0m\u001b[0m\n",
      "\u001b[0;31mRuntimeError\u001b[0m: mul_ only supports scalar multiplication"
     ]
    }
   ],
   "source": [
    "# But not in place! Why?\n",
    "# Because \"mul_ only supports scalar multiplication\"\n",
    "print(var_a.mul_(var_b))"
   ]
  },
  {
   "cell_type": "markdown",
   "metadata": {},
   "source": [
    "## 3 - Gradients\n",
    "\n",
    "requires_grad enables calculation of gradients for Variables\n",
    "* Define original equation\n",
    "* Substitute equation with x\n",
    "* Reduce to scalar output using mean > o\n",
    "* Calculate gradients > o.backward()\n",
    "* Access the gradients using x.grad"
   ]
  },
  {
   "cell_type": "code",
   "execution_count": 34,
   "metadata": {},
   "outputs": [
    {
     "data": {
      "text/plain": [
       "Variable containing:\n",
       " 1\n",
       " 1\n",
       "[torch.FloatTensor of size 2]"
      ]
     },
     "execution_count": 34,
     "metadata": {},
     "output_type": "execute_result"
    }
   ],
   "source": [
    "x = Variable(torch.ones(2), requires_grad=True)\n",
    "x"
   ]
  },
  {
   "cell_type": "code",
   "execution_count": 35,
   "metadata": {},
   "outputs": [
    {
     "data": {
      "text/plain": [
       "Variable containing:\n",
       " 20\n",
       " 20\n",
       "[torch.FloatTensor of size 2]"
      ]
     },
     "execution_count": 35,
     "metadata": {},
     "output_type": "execute_result"
    }
   ],
   "source": [
    "y = 5 * (x + 1) ** 2\n",
    "y"
   ]
  },
  {
   "cell_type": "code",
   "execution_count": 36,
   "metadata": {},
   "outputs": [
    {
     "data": {
      "text/plain": [
       "Variable containing:\n",
       " 20\n",
       "[torch.FloatTensor of size 1]"
      ]
     },
     "execution_count": 36,
     "metadata": {},
     "output_type": "execute_result"
    }
   ],
   "source": [
    "o = (1/2) * torch.sum(y)\n",
    "o"
   ]
  },
  {
   "cell_type": "code",
   "execution_count": 29,
   "metadata": {},
   "outputs": [
    {
     "name": "stdout",
     "output_type": "stream",
     "text": [
      "None\n"
     ]
    }
   ],
   "source": [
    "# calculate the gradients for variables involved in o\n",
    "print(o.backward())\n"
   ]
  },
  {
   "cell_type": "code",
   "execution_count": 32,
   "metadata": {},
   "outputs": [
    {
     "data": {
      "text/plain": [
       "Variable containing:\n",
       " 10\n",
       " 10\n",
       "[torch.FloatTensor of size 2]"
      ]
     },
     "execution_count": 32,
     "metadata": {},
     "output_type": "execute_result"
    }
   ],
   "source": [
    "# the gradients are stored in the Variable\n",
    "x.grad"
   ]
  },
  {
   "cell_type": "code",
   "execution_count": 37,
   "metadata": {},
   "outputs": [
    {
     "data": {
      "text/plain": [
       "Variable containing:\n",
       " 10\n",
       " 10\n",
       "[torch.FloatTensor of size 2]"
      ]
     },
     "execution_count": 37,
     "metadata": {},
     "output_type": "execute_result"
    }
   ],
   "source": [
    "o.backward(torch.FloatTensor([1.0,1.0]))\n",
    "x.grad"
   ]
  },
  {
   "cell_type": "markdown",
   "metadata": {},
   "source": [
    "### 4 - Loss function and optimizer\n",
    "######  Logistic Regression example with Pytorch\n",
    "Bring together some of the previously introduced ideas in a simple application\n",
    " \n",
    "* **Linear function**:\n",
    "  * $y = A X + \\beta $\n",
    "  * with matrix $A$ the weights and $\\beta$ the bias \n",
    "    * dimensions of $A$: *output_dim x input_dim*\n",
    "    * dimensions of $\\beta$: *output_dim x 1*\n",
    "\n",
    "$g = \\frac{1}{1+e^{-y}} = \\frac{1}{1+e^{A X + \\beta}} \\to $ estimated probability that $y = 1$ given $x$\n"
   ]
  },
  {
   "cell_type": "markdown",
   "metadata": {},
   "source": [
    "***Optimising using Cross-entropy $D()$***\n",
    "\n",
    "$D(S,L) = L * log(S)-(1-L) *log(1-S)$\n",
    "* if $ L = 0 $ (for a specific label)\n",
    "  * $D(S,O) = -log(1-S)$\n",
    "    * $-log(1-S)$ : less positive if $S \\to 0$\n",
    "    * $-log(1-S)$ : more positive if $S \\to 1$ (bigger loss!)\n",
    "* if $ L = 1 $ (for a specific label)\n",
    "  * $D(S,1) = -log(S)$\n",
    "    * $-log(S)$ : less negative if $S \\to 1$\n",
    "    * $-log(S)$ : more negative if $S \\to 0$ (bigger loss!)\n",
    "    \n",
    "**Goal** is to minimise the cross entropy loss\n",
    "* $L = \\frac{1}{N}\\sum_i{D(g(Ax_i+b), L_i)}$\n",
    "  * minimise the overall distance D \n",
    "  * linear function $y \\to$ logistic function $S = g(y) \\to$ cross entropy function $D(S,L)$"
   ]
  },
  {
   "cell_type": "code",
   "execution_count": 147,
   "metadata": {},
   "outputs": [
    {
     "name": "stdout",
     "output_type": "stream",
     "text": [
      "-log(1-S) with S near 0, very small:\n",
      " 9.999999722180686e-10\n",
      "-log(1-S) with S near 1, relatively big:\n",
      " 20.723265865228342\n",
      "log(S) with S near 1, very small:\n",
      " -9.999999722180686e-10\n",
      "log(S) with S near 0, relatively big:\n",
      " -20.72326583694641\n"
     ]
    }
   ],
   "source": [
    "import math\n",
    "print('-log(1-S) with S near 0, very small:\\n',-math.log(1-.000000001))\n",
    "print('-log(1-S) with S near 1, relatively big:\\n',-math.log(1-.999999999))\n",
    "\n",
    "print('log(S) with S near 1, very small:\\n',math.log(.999999999))\n",
    "print('log(S) with S near 0, relatively big:\\n',math.log(.000000001))\n"
   ]
  },
  {
   "cell_type": "markdown",
   "metadata": {},
   "source": [
    "### 5 -  Data using the pytorch dataloader class"
   ]
  },
  {
   "cell_type": "code",
   "execution_count": 148,
   "metadata": {
    "collapsed": true
   },
   "outputs": [],
   "source": [
    "import torch\n",
    "import torch.nn as nn\n",
    "from torch.autograd import Variable\n",
    "\n",
    "# vision dataset imports\n",
    "import torchvision.transforms as transforms\n",
    "import torchvision.datasets as dsets\n"
   ]
  },
  {
   "cell_type": "code",
   "execution_count": 234,
   "metadata": {
    "collapsed": true
   },
   "outputs": [],
   "source": [
    "train_dataset = dsets.MNIST(root='./data',\n",
    "                           train=True,\n",
    "                           transform=transforms.ToTensor(),\n",
    "                           download=False) # set to True to download the dataset"
   ]
  },
  {
   "cell_type": "code",
   "execution_count": 235,
   "metadata": {},
   "outputs": [
    {
     "data": {
      "text/plain": [
       "60000"
      ]
     },
     "execution_count": 235,
     "metadata": {},
     "output_type": "execute_result"
    }
   ],
   "source": [
    "len(train_dataset)"
   ]
  },
  {
   "cell_type": "code",
   "execution_count": 236,
   "metadata": {},
   "outputs": [
    {
     "data": {
      "text/plain": [
       "torch.Size([1, 28, 28])"
      ]
     },
     "execution_count": 236,
     "metadata": {},
     "output_type": "execute_result"
    }
   ],
   "source": [
    "# image with 28 by 28 pixels\n",
    "train_dataset[0][0].size()"
   ]
  },
  {
   "cell_type": "code",
   "execution_count": 237,
   "metadata": {},
   "outputs": [
    {
     "data": {
      "text/plain": [
       "5"
      ]
     },
     "execution_count": 237,
     "metadata": {},
     "output_type": "execute_result"
    }
   ],
   "source": [
    "# label for the first image\n",
    "train_dataset[0][1]"
   ]
  },
  {
   "cell_type": "code",
   "execution_count": 166,
   "metadata": {},
   "outputs": [
    {
     "data": {
      "text/plain": [
       "5"
      ]
     },
     "execution_count": 166,
     "metadata": {},
     "output_type": "execute_result"
    }
   ],
   "source": [
    "batch_size = 100\n",
    "n_iters = 3000\n",
    "\n",
    "num_epochs = int(n_iters / (len(train_dataset) / batch_size))\n",
    "num_epochs"
   ]
  },
  {
   "cell_type": "code",
   "execution_count": 167,
   "metadata": {
    "collapsed": true
   },
   "outputs": [],
   "source": [
    "train_loader = torch.utils.data.DataLoader(dataset=train_dataset,\n",
    "                                          batch_size=batch_size,\n",
    "                                           shuffle=True)"
   ]
  },
  {
   "cell_type": "code",
   "execution_count": 168,
   "metadata": {},
   "outputs": [
    {
     "data": {
      "text/plain": [
       "True"
      ]
     },
     "execution_count": 168,
     "metadata": {},
     "output_type": "execute_result"
    }
   ],
   "source": [
    "# check iterability of trainingset\n",
    "import collections\n",
    "isinstance(train_loader, collections.Iterable)"
   ]
  },
  {
   "cell_type": "code",
   "execution_count": 170,
   "metadata": {
    "collapsed": true
   },
   "outputs": [],
   "source": [
    "test_loader = torch.utils.data.DataLoader(dataset=train_dataset,\n",
    "                                          batch_size=batch_size,\n",
    "                                           shuffle=False)"
   ]
  },
  {
   "cell_type": "markdown",
   "metadata": {},
   "source": [
    "### 6 - Buidling a simple model "
   ]
  },
  {
   "cell_type": "markdown",
   "metadata": {},
   "source": [
    "#### STEP 1 - CREATE THE MODEL CLASS"
   ]
  },
  {
   "cell_type": "code",
   "execution_count": 176,
   "metadata": {
    "collapsed": true
   },
   "outputs": [],
   "source": [
    "class Logreg(nn.Module):\n",
    "    def __init__(self, input_size, output_size):\n",
    "        super(Logreg, self).__init__()\n",
    "        # linear layer\n",
    "        self.linear = nn.Linear(input_dim, output_dim)\n",
    "        \n",
    "    def forward(self, x):\n",
    "        out = self.linear(x)\n",
    "        return out"
   ]
  },
  {
   "cell_type": "markdown",
   "metadata": {},
   "source": [
    "#### STEP 2 - INSTANTIATE THE MODEL CLASS"
   ]
  },
  {
   "cell_type": "code",
   "execution_count": 219,
   "metadata": {
    "collapsed": true
   },
   "outputs": [],
   "source": [
    "# input dimensionality has to be the same as the image size!\n",
    "input_dim = 28 * 28\n",
    "# labels 0-9\n",
    "output_dim = 10\n",
    "\n",
    "model = Logreg(input_dim, output_dim * batch_size)\n",
    "\n",
    "if torch.cuda.is_available():\n",
    "    model.cuda()"
   ]
  },
  {
   "cell_type": "markdown",
   "metadata": {},
   "source": [
    "#### STEP 3 - LOSS AND OPTIMIZER"
   ]
  },
  {
   "cell_type": "code",
   "execution_count": 220,
   "metadata": {
    "collapsed": true
   },
   "outputs": [],
   "source": [
    "# loss function\n",
    "criterion = nn.CrossEntropyLoss()\n",
    "\n",
    "# how are you updating the parameters for every epoch?\n",
    "learning_rate = 0.001\n",
    "optimizer = torch.optim.SGD(model.parameters(),lr = learning_rate)"
   ]
  },
  {
   "cell_type": "code",
   "execution_count": 221,
   "metadata": {},
   "outputs": [
    {
     "name": "stdout",
     "output_type": "stream",
     "text": [
      "<generator object Module.parameters at 0x7f048db3f0a0>\n",
      "2\n",
      "alpha:\n",
      " torch.Size([10, 784])\n",
      "beta:\n",
      " torch.Size([10])\n"
     ]
    }
   ],
   "source": [
    "# print the parameters \n",
    "print(model.parameters())\n",
    "print(len(list(model.parameters()))) # amount of layers\n",
    "\n",
    "# FC 1 parameters\n",
    "print('alpha:\\n',list(model.parameters())[0].size()) # linear layer parameters\n",
    "# FC 1 bias parameters\n",
    "print('beta:\\n',list(model.parameters())[1].size()) # output layer parameters"
   ]
  },
  {
   "cell_type": "markdown",
   "metadata": {},
   "source": [
    "#### STEP 4 - TRAIN THE MODEL"
   ]
  },
  {
   "cell_type": "code",
   "execution_count": 222,
   "metadata": {},
   "outputs": [
    {
     "name": "stdout",
     "output_type": "stream",
     "text": [
      "torch.Size([100, 784])\n"
     ]
    }
   ],
   "source": [
    "# print sizes of shizzle if the model doesn't like you\n",
    "for i, (images, labels) in enumerate(train_loader):\n",
    "    if i == 1:\n",
    "        print(images.view(-1,28*28).size())"
   ]
  },
  {
   "cell_type": "code",
   "execution_count": 229,
   "metadata": {},
   "outputs": [
    {
     "name": "stdout",
     "output_type": "stream",
     "text": [
      "Iteration: 500 \t Loss 0.6911 \t Accuracy: 86.34833333333333\n",
      "Iteration: 1000 \t Loss 0.6799 \t Accuracy: 86.46666666666667\n",
      "Iteration: 1500 \t Loss 0.7793 \t Accuracy: 86.56833333333333\n",
      "Iteration: 2000 \t Loss 0.6045 \t Accuracy: 86.61\n",
      "Iteration: 2500 \t Loss 0.4437 \t Accuracy: 86.715\n",
      "Iteration: 3000 \t Loss 0.6233 \t Accuracy: 86.82166666666667\n"
     ]
    }
   ],
   "source": [
    "iter = 0\n",
    "\n",
    "for epoch in range(num_epochs):\n",
    "    for i, (images, labels) in enumerate(train_loader):\n",
    "        # convert input data to torch Variable\n",
    "        if torch.cuda.is_available():\n",
    "            # .cuda() has to be applied to the Tensor, not the Variable!\n",
    "            images = Variable(images.view(-1,28*28).cuda())\n",
    "            labels = Variable(labels.cuda())\n",
    "        else:\n",
    "            images = Variable(images.view(-1,28*28))\n",
    "            labels = Variable(labels)\n",
    "\n",
    "        # Clear gradients w.r.t. parameters\n",
    "        optimizer.zero_grad()\n",
    "\n",
    "        # Forward run to get outputs\n",
    "        outputs = model(images)\n",
    "\n",
    "        # Calculate loss w.r.t labels (Softmax and CrossEntropy in a single step)\n",
    "        loss = criterion(outputs, labels)\n",
    "\n",
    "        # Compute gradients w.r.t. parameters\n",
    "        loss.backward()\n",
    "\n",
    "        # Update parameters\n",
    "        optimizer.step()\n",
    "\n",
    "        iter += 1\n",
    "        # compute the accuracy\n",
    "        if iter % 500 == 0:\n",
    "            correct = 0\n",
    "            total = 0\n",
    "            for images, labels in test_loader:\n",
    "                # Load images to a Torch Variable\n",
    "                if torch.cuda.is_available():\n",
    "                    images = Variable(images.view(-1,28*28).cuda())\n",
    "                else:\n",
    "                    images = Variable(images.view(-1,28*28))\n",
    "\n",
    "                # Forward pass to get outputs\n",
    "                outputs = model(images)\n",
    "\n",
    "                # Get predictions from the arg max                      \n",
    "                _, predicted = torch.max(outputs.data, 1)\n",
    "\n",
    "                # Total number of labels\n",
    "                total += labels.size(0)\n",
    "\n",
    "                # Total correct predictions\n",
    "                if torch.cuda.is_available():\n",
    "                    correct += (predicted.cpu() == labels.cpu()).sum()\n",
    "                else:\n",
    "                    correct += (predicted == labels).sum()\n",
    "\n",
    "            accuracy = 100 * correct / total\n",
    "\n",
    "            print('Iteration: {} \\t Loss {:.4f} \\t Accuracy: {}'.format(iter, loss.data[0], accuracy))"
   ]
  },
  {
   "cell_type": "markdown",
   "metadata": {},
   "source": [
    "#### STEP 5 - PREDICT LABELS FOR TEST SET"
   ]
  },
  {
   "cell_type": "code",
   "execution_count": 233,
   "metadata": {},
   "outputs": [
    {
     "ename": "AttributeError",
     "evalue": "'DataLoader' object has no attribute 'items'",
     "output_type": "error",
     "traceback": [
      "\u001b[0;31m---------------------------------------------------------------------------\u001b[0m",
      "\u001b[0;31mAttributeError\u001b[0m                            Traceback (most recent call last)",
      "\u001b[0;32m<ipython-input-233-8bd3381180cf>\u001b[0m in \u001b[0;36m<module>\u001b[0;34m()\u001b[0m\n\u001b[1;32m      1\u001b[0m \u001b[0;31m# seems like a lot of additional work to move back and forth from/to gpu\u001b[0m\u001b[0;34m\u001b[0m\u001b[0;34m\u001b[0m\u001b[0m\n\u001b[1;32m      2\u001b[0m \u001b[0;32mif\u001b[0m \u001b[0mtorch\u001b[0m\u001b[0;34m.\u001b[0m\u001b[0mcuda\u001b[0m\u001b[0;34m.\u001b[0m\u001b[0mis_available\u001b[0m\u001b[0;34m:\u001b[0m\u001b[0;34m\u001b[0m\u001b[0m\n\u001b[0;32m----> 3\u001b[0;31m     \u001b[0mpredicted\u001b[0m \u001b[0;34m=\u001b[0m \u001b[0mmodel\u001b[0m\u001b[0;34m(\u001b[0m\u001b[0mVariable\u001b[0m\u001b[0;34m(\u001b[0m\u001b[0mtest_loader\u001b[0m\u001b[0;34m.\u001b[0m\u001b[0mitems\u001b[0m\u001b[0;34m(\u001b[0m\u001b[0;34m)\u001b[0m\u001b[0;34m.\u001b[0m\u001b[0mview\u001b[0m\u001b[0;34m(\u001b[0m\u001b[0;34m-\u001b[0m\u001b[0;36m1\u001b[0m\u001b[0;34m,\u001b[0m\u001b[0;36m28\u001b[0m\u001b[0;34m*\u001b[0m\u001b[0;36m28\u001b[0m\u001b[0;34m)\u001b[0m\u001b[0;34m.\u001b[0m\u001b[0mcuda\u001b[0m\u001b[0;34m(\u001b[0m\u001b[0;34m)\u001b[0m\u001b[0;34m)\u001b[0m\u001b[0;34m)\u001b[0m\u001b[0;34m.\u001b[0m\u001b[0mcpu\u001b[0m\u001b[0;34m(\u001b[0m\u001b[0;34m)\u001b[0m\u001b[0;34m.\u001b[0m\u001b[0mdata\u001b[0m\u001b[0;34m.\u001b[0m\u001b[0mnumpy\u001b[0m\u001b[0;34m(\u001b[0m\u001b[0;34m)\u001b[0m\u001b[0;34m\u001b[0m\u001b[0m\n\u001b[0m\u001b[1;32m      4\u001b[0m \u001b[0;32melse\u001b[0m\u001b[0;34m:\u001b[0m\u001b[0;34m\u001b[0m\u001b[0m\n\u001b[1;32m      5\u001b[0m     \u001b[0mpredicted\u001b[0m \u001b[0;34m=\u001b[0m \u001b[0mmodel\u001b[0m\u001b[0;34m(\u001b[0m\u001b[0mVariable\u001b[0m\u001b[0;34m(\u001b[0m\u001b[0mtest_loader\u001b[0m\u001b[0;34m[\u001b[0m\u001b[0;34m:\u001b[0m\u001b[0;34m]\u001b[0m\u001b[0;34m[\u001b[0m\u001b[0;34m:\u001b[0m\u001b[0;34m]\u001b[0m\u001b[0;34m)\u001b[0m\u001b[0;34m.\u001b[0m\u001b[0mdata\u001b[0m\u001b[0;34m.\u001b[0m\u001b[0mnumpy\u001b[0m\u001b[0;34m(\u001b[0m\u001b[0;34m)\u001b[0m\u001b[0;34m)\u001b[0m\u001b[0;34m\u001b[0m\u001b[0m\n",
      "\u001b[0;31mAttributeError\u001b[0m: 'DataLoader' object has no attribute 'items'"
     ]
    }
   ],
   "source": [
    "# seems like a lot of additional work to move back and forth from/to gpu\n",
    "if torch.cuda.is_available:\n",
    "    predicted = model(Variable(test_loader.items().view(-1,28*28).cuda())).cpu().data.numpy()\n",
    "else:\n",
    "    predicted = model(Variable(test_loader[:][:]).data.numpy())\n",
    "print(predicted)"
   ]
  },
  {
   "cell_type": "code",
   "execution_count": 98,
   "metadata": {},
   "outputs": [
    {
     "data": {
      "text/plain": [
       "array([[  1.],\n",
       "       [  3.],\n",
       "       [  5.],\n",
       "       [  7.],\n",
       "       [  9.],\n",
       "       [ 11.],\n",
       "       [ 13.],\n",
       "       [ 15.],\n",
       "       [ 17.],\n",
       "       [ 19.],\n",
       "       [ 21.]], dtype=float32)"
      ]
     },
     "execution_count": 98,
     "metadata": {},
     "output_type": "execute_result"
    }
   ],
   "source": [
    "y_train"
   ]
  },
  {
   "cell_type": "code",
   "execution_count": 130,
   "metadata": {},
   "outputs": [
    {
     "data": {
      "image/png": "[encoded data removed]",
      "text/plain": [
       "<matplotlib.figure.Figure at 0x7f048db0d898>"
      ]
     },
     "metadata": {},
     "output_type": "display_data"
    }
   ],
   "source": [
    "# clear plot\n",
    "plt.clf()\n",
    "\n",
    "# plot true data\n",
    "plt.plot(x_train, y_train, 'go', label='True data', alpha=.5)\n",
    "\n",
    "# plot predictions \n",
    "plt.plot(x_train, predicted, '--', label='Predictions', alpha=.5)\n",
    "\n",
    "# Legend and plot\n",
    "plt.legend(loc='best')\n",
    "plt.show()"
   ]
  },
  {
   "cell_type": "code",
   "execution_count": 139,
   "metadata": {
    "collapsed": true
   },
   "outputs": [],
   "source": [
    "save_model = True\n",
    "if save_model is True:\n",
    "    # save only parameters\n",
    "    torch.save(model.state_dict(), 'saved_shitty_test_model.pkl')"
   ]
  },
  {
   "cell_type": "code",
   "execution_count": 141,
   "metadata": {
    "collapsed": true
   },
   "outputs": [],
   "source": [
    "load_model = True\n",
    "if load_model is True:\n",
    "    model.load_state_dict(torch.load('saved_shitty_test_model.pkl'))"
   ]
  },
  {
   "cell_type": "code",
   "execution_count": null,
   "metadata": {
    "collapsed": true
   },
   "outputs": [],
   "source": []
  },
  {
   "cell_type": "code",
   "execution_count": null,
   "metadata": {
    "collapsed": true
   },
   "outputs": [],
   "source": []
  },
  {
   "cell_type": "code",
   "execution_count": null,
   "metadata": {
    "collapsed": true
   },
   "outputs": [],
   "source": []
  },
  {
   "cell_type": "code",
   "execution_count": null,
   "metadata": {
    "collapsed": true
   },
   "outputs": [],
   "source": []
  }
 ],
 "metadata": {
  "kernelspec": {
   "display_name": "Python 3",
   "language": "python",
   "name": "python3"
  },
  "language_info": {
   "codemirror_mode": {
    "name": "ipython",
    "version": 3
   },
   "file_extension": ".py",
   "mimetype": "text/x-python",
   "name": "python",
   "nbconvert_exporter": "python",
   "pygments_lexer": "ipython3",
   "version": "3.6.2"
  }
 },
 "nbformat": 4,
 "nbformat_minor": 2
}
