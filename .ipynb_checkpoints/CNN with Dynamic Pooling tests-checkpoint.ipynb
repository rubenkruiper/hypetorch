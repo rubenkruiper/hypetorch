{
 "cells": [
  {
   "cell_type": "code",
   "execution_count": 1,
   "metadata": {
    "collapsed": true
   },
   "outputs": [],
   "source": [
    "import torch\n",
    "import torch.nn as nn\n",
    "from torch.autograd import Variable\n",
    "import torch.optim as optim"
   ]
  },
  {
   "cell_type": "code",
   "execution_count": 2,
   "metadata": {},
   "outputs": [
    {
     "name": "stdout",
     "output_type": "stream",
     "text": [
      "Slusarski\n"
     ]
    }
   ],
   "source": [
    "import unicodedata\n",
    "import string\n",
    "\n",
    "all_letters = string.ascii_letters + \"_- .,;'0123456789\"\n",
    "\n",
    "# Turn a Unicode string to plain ASCII, thanks to http://stackoverflow.com/a/518232/2809427\n",
    "def unicode_to_ascii(s):\n",
    "    return ''.join(\n",
    "        c for c in unicodedata.normalize('NFD', s)\n",
    "        if unicodedata.category(c) != 'Mn'\n",
    "        and c in all_letters\n",
    "    )\n",
    "\n",
    "print(unicode_to_ascii('Ślusàrski'))"
   ]
  },
  {
   "cell_type": "code",
   "execution_count": 3,
   "metadata": {},
   "outputs": [
    {
     "name": "stdout",
     "output_type": "stream",
     "text": [
      "number of letters: 70 \n",
      "\n"
     ]
    }
   ],
   "source": [
    "# Add padding '<PAD>' to the lookup table for all_letters\n",
    "# char 2 index\n",
    "char2idx = {c:i+1 for i, c in enumerate(all_letters)}\n",
    "char2idx[\"<PAD>\"] = 0\n",
    "\n",
    "# index 2 char\n",
    "index2char = {i+1:c for i,c in enumerate(all_letters)}\n",
    "index2char[0] = \"<PAD>\"\n",
    "\n",
    "print(\"number of letters: %i \\n\" %len(char2idx))"
   ]
  },
  {
   "cell_type": "code",
   "execution_count": 4,
   "metadata": {
    "collapsed": true
   },
   "outputs": [],
   "source": [
    "words = ['four','word5','AaBbCc','example','eightlet', 'ninelette','tenletters', 'elevenlette','twelveletter']"
   ]
  },
  {
   "cell_type": "code",
   "execution_count": 5,
   "metadata": {},
   "outputs": [
    {
     "name": "stdout",
     "output_type": "stream",
     "text": [
      "12\n"
     ]
    }
   ],
   "source": [
    "max_len = max([len(word) for word in words])\n",
    "print(max_len)"
   ]
  },
  {
   "cell_type": "code",
   "execution_count": 6,
   "metadata": {},
   "outputs": [
    {
     "name": "stdout",
     "output_type": "stream",
     "text": [
      "4\n",
      "5\n",
      "6\n",
      "7\n",
      "8\n",
      "9\n",
      "10\n",
      "11\n",
      "12\n"
     ]
    }
   ],
   "source": [
    "word_idx = []\n",
    "\n",
    "for i, word in enumerate(words):\n",
    "    word_idx.append([char2idx[c] for c in word])\n",
    "    print(len(word_idx[i]))"
   ]
  },
  {
   "cell_type": "code",
   "execution_count": 7,
   "metadata": {
    "collapsed": true
   },
   "outputs": [],
   "source": [
    "# add padding to the words\n",
    "for i,_ in enumerate(word_idx):\n",
    "    while len(word_idx[i]) < max_len:\n",
    "        word_idx[i].append(char2idx['<PAD>'])"
   ]
  },
  {
   "cell_type": "code",
   "execution_count": 51,
   "metadata": {
    "collapsed": true
   },
   "outputs": [],
   "source": [
    "class CNN(nn.Module):\n",
    "    def __init__(self, input_size, output_size):\n",
    "        super(CNN, self).__init__()\n",
    "        \n",
    "        self.embedding = nn.Embedding(input_size, len(char2idx))\n",
    "        self.input_size = input_size\n",
    "        \n",
    "        self.conv = nn.Conv2d(in_channels=1, out_channels=1, kernel_size=(2,len(char2idx)))\n",
    "        self.pool = nn.AdaptiveMaxPool2d((3,1), return_indices=False)\n",
    "        \n",
    "        '''self.sequential = nn.Sequential(nn.Conv2d(in_channels=1, out_channels=1, \n",
    "                                                  kernel_size=(2,len(vocab))),\n",
    "                                        nn.MaxPool2d(kernel_size=(2,len(vocab))))'''\n",
    "        self.linear = nn.Linear(1, output_size) # n_channels, output_size\n",
    "        \n",
    "    def forward(self, x):\n",
    "        \n",
    "        print('\\nn_length:',x.size())\n",
    "        \n",
    "        x = self.embedding(x)\n",
    "        print('embed:',x.size())\n",
    "        \n",
    "        # x = torch.cat((embedded_x, i), dim=1)\n",
    "        \n",
    "        x = x.unsqueeze(0).unsqueeze(0)\n",
    "        print('unsqueezed:',x.size())\n",
    "        \n",
    "        x = self.conv(x)\n",
    "        print('conv_x:',x.size())\n",
    "        x = self.pool(x)\n",
    "        print('pool:',x.size())\n",
    "        \n",
    "        ''' for i in range((self.input_size-4)//2):\n",
    "            x = self.sequential(x)\n",
    "            print('conv2:',x.size())\n",
    "        '''\n",
    "        x = self.linear(x)\n",
    "        \n",
    "        return x"
   ]
  },
  {
   "cell_type": "code",
   "execution_count": 52,
   "metadata": {
    "collapsed": true
   },
   "outputs": [],
   "source": [
    "cnn = CNN(len(char2idx), 18)"
   ]
  },
  {
   "cell_type": "code",
   "execution_count": 53,
   "metadata": {},
   "outputs": [
    {
     "name": "stdout",
     "output_type": "stream",
     "text": [
      "torch.Size([12])\n",
      "\n",
      "n_length: torch.Size([12])\n",
      "embed: torch.Size([12, 70])\n",
      "unsqueezed: torch.Size([1, 1, 12, 70])\n",
      "conv_x: torch.Size([1, 1, 11, 1])\n",
      "pool: torch.Size([1, 1, 3, 1])\n",
      "torch.Size([12])\n",
      "\n",
      "n_length: torch.Size([12])\n",
      "embed: torch.Size([12, 70])\n",
      "unsqueezed: torch.Size([1, 1, 12, 70])\n",
      "conv_x: torch.Size([1, 1, 11, 1])\n",
      "pool: torch.Size([1, 1, 3, 1])\n",
      "torch.Size([12])\n",
      "\n",
      "n_length: torch.Size([12])\n",
      "embed: torch.Size([12, 70])\n",
      "unsqueezed: torch.Size([1, 1, 12, 70])\n",
      "conv_x: torch.Size([1, 1, 11, 1])\n",
      "pool: torch.Size([1, 1, 3, 1])\n",
      "torch.Size([12])\n",
      "\n",
      "n_length: torch.Size([12])\n",
      "embed: torch.Size([12, 70])\n",
      "unsqueezed: torch.Size([1, 1, 12, 70])\n",
      "conv_x: torch.Size([1, 1, 11, 1])\n",
      "pool: torch.Size([1, 1, 3, 1])\n",
      "torch.Size([12])\n",
      "\n",
      "n_length: torch.Size([12])\n",
      "embed: torch.Size([12, 70])\n",
      "unsqueezed: torch.Size([1, 1, 12, 70])\n",
      "conv_x: torch.Size([1, 1, 11, 1])\n",
      "pool: torch.Size([1, 1, 3, 1])\n",
      "torch.Size([12])\n",
      "\n",
      "n_length: torch.Size([12])\n",
      "embed: torch.Size([12, 70])\n",
      "unsqueezed: torch.Size([1, 1, 12, 70])\n",
      "conv_x: torch.Size([1, 1, 11, 1])\n",
      "pool: torch.Size([1, 1, 3, 1])\n",
      "torch.Size([12])\n",
      "\n",
      "n_length: torch.Size([12])\n",
      "embed: torch.Size([12, 70])\n",
      "unsqueezed: torch.Size([1, 1, 12, 70])\n",
      "conv_x: torch.Size([1, 1, 11, 1])\n",
      "pool: torch.Size([1, 1, 3, 1])\n",
      "torch.Size([12])\n",
      "\n",
      "n_length: torch.Size([12])\n",
      "embed: torch.Size([12, 70])\n",
      "unsqueezed: torch.Size([1, 1, 12, 70])\n",
      "conv_x: torch.Size([1, 1, 11, 1])\n",
      "pool: torch.Size([1, 1, 3, 1])\n",
      "torch.Size([12])\n",
      "\n",
      "n_length: torch.Size([12])\n",
      "embed: torch.Size([12, 70])\n",
      "unsqueezed: torch.Size([1, 1, 12, 70])\n",
      "conv_x: torch.Size([1, 1, 11, 1])\n",
      "pool: torch.Size([1, 1, 3, 1])\n"
     ]
    }
   ],
   "source": [
    "for i, word in enumerate(word_idx):\n",
    "    \n",
    "    name_var = Variable(torch.LongTensor(word))\n",
    "    indexes = [i for i in range(len(name_var))]\n",
    "    x = torch.LongTensor(indexes).float()\n",
    "    x = x.unsqueeze(1)\n",
    "    index_var = Variable(x)\n",
    "    print(name_var.size())\n",
    "    cnn(name_var)"
   ]
  },
  {
   "cell_type": "code",
   "execution_count": 43,
   "metadata": {},
   "outputs": [
    {
     "name": "stdout",
     "output_type": "stream",
     "text": [
      "0\n",
      "1\n"
     ]
    }
   ],
   "source": [
    "for i in range((8-4)//2):\n",
    "    print(i)"
   ]
  },
  {
   "cell_type": "code",
   "execution_count": 44,
   "metadata": {},
   "outputs": [
    {
     "data": {
      "text/plain": [
       "1"
      ]
     },
     "execution_count": 44,
     "metadata": {},
     "output_type": "execute_result"
    }
   ],
   "source": [
    "5//3"
   ]
  },
  {
   "cell_type": "code",
   "execution_count": null,
   "metadata": {
    "collapsed": true
   },
   "outputs": [],
   "source": []
  },
  {
   "cell_type": "code",
   "execution_count": null,
   "metadata": {
    "collapsed": true
   },
   "outputs": [],
   "source": []
  },
  {
   "cell_type": "code",
   "execution_count": null,
   "metadata": {
    "collapsed": true
   },
   "outputs": [],
   "source": []
  }
 ],
 "metadata": {
  "kernelspec": {
   "display_name": "Python 3",
   "language": "python",
   "name": "python3"
  },
  "language_info": {
   "codemirror_mode": {
    "name": "ipython",
    "version": 3
   },
   "file_extension": ".py",
   "mimetype": "text/x-python",
   "name": "python",
   "nbconvert_exporter": "python",
   "pygments_lexer": "ipython3",
   "version": "3.6.2"
  }
 },
 "nbformat": 4,
 "nbformat_minor": 2
}
