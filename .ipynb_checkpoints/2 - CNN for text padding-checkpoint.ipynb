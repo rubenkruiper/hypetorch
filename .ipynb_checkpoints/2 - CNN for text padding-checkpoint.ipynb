{
 "cells": [
  {
   "cell_type": "markdown",
   "metadata": {},
   "source": [
    "#### CNN's for NLP\n",
    "\n",
    "\n",
    "* http://www.wildml.com/2015/11/understanding-convolutional-neural-networks-for-nlp/\n",
    "* dataset: https://github.com/spro/practical-pytorch"
   ]
  },
  {
   "cell_type": "code",
   "execution_count": 1,
   "metadata": {
    "collapsed": true
   },
   "outputs": [],
   "source": [
    "import torch\n",
    "import torch.nn as nn\n",
    "from torch.autograd import Variable\n",
    "import torch.optim as optim\n",
    "import torch.nn.functional as F"
   ]
  },
  {
   "cell_type": "markdown",
   "metadata": {},
   "source": [
    "### Import text-data from txt.files\n",
    "__Dataset import__"
   ]
  },
  {
   "cell_type": "code",
   "execution_count": 2,
   "metadata": {},
   "outputs": [
    {
     "name": "stdout",
     "output_type": "stream",
     "text": [
      "['dataset/names/Arabic.txt', 'dataset/names/Chinese.txt', 'dataset/names/Czech.txt', 'dataset/names/Dutch.txt', 'dataset/names/English.txt', 'dataset/names/French.txt', 'dataset/names/German.txt', 'dataset/names/Greek.txt', 'dataset/names/Irish.txt', 'dataset/names/Italian.txt', 'dataset/names/Japanese.txt', 'dataset/names/Korean.txt', 'dataset/names/Polish.txt', 'dataset/names/Portuguese.txt', 'dataset/names/Russian.txt', 'dataset/names/Scottish.txt', 'dataset/names/Spanish.txt', 'dataset/names/Vietnamese.txt']\n"
     ]
    }
   ],
   "source": [
    "# dataset location: ./dataset/names/*.txt\n",
    "import glob\n",
    "\n",
    "all_filenames = glob.glob('dataset/names/*.txt')\n",
    "print(all_filenames)"
   ]
  },
  {
   "cell_type": "markdown",
   "metadata": {},
   "source": [
    "__Convert to non-ascii characters__"
   ]
  },
  {
   "cell_type": "code",
   "execution_count": 3,
   "metadata": {},
   "outputs": [
    {
     "name": "stdout",
     "output_type": "stream",
     "text": [
      "Slusarski\n"
     ]
    }
   ],
   "source": [
    "import unicodedata\n",
    "import string\n",
    "\n",
    "all_letters = string.ascii_letters + \"_- .,;'0123456789\"\n",
    "n_letters = len(all_letters)\n",
    "\n",
    "# Turn a Unicode string to plain ASCII, thanks to http://stackoverflow.com/a/518232/2809427\n",
    "def unicode_to_ascii(s):\n",
    "    return ''.join(\n",
    "        c for c in unicodedata.normalize('NFD', s)\n",
    "        if unicodedata.category(c) != 'Mn'\n",
    "        and c in all_letters\n",
    "    )\n",
    "\n",
    "print(unicode_to_ascii('Ślusàrski'))"
   ]
  },
  {
   "cell_type": "code",
   "execution_count": 4,
   "metadata": {},
   "outputs": [
    {
     "name": "stdout",
     "output_type": "stream",
     "text": [
      "number of letters: 70 \n",
      "\n"
     ]
    }
   ],
   "source": [
    "# Add padding '<PAD>' to the lookup table for all_letters\n",
    "# char 2 index\n",
    "char2idx = {c:i+1 for i, c in enumerate(all_letters)}\n",
    "char2idx[\"<PAD>\"] = 0\n",
    "\n",
    "# index 2 char\n",
    "index2char = {i+1:c for i,c in enumerate(all_letters)}\n",
    "index2char[0] = \"<PAD>\"\n",
    "\n",
    "print(\"number of letters: %i \\n\" %len(char2idx))"
   ]
  },
  {
   "cell_type": "markdown",
   "metadata": {},
   "source": [
    "__Determine categories and words inside each txt file__"
   ]
  },
  {
   "cell_type": "code",
   "execution_count": 5,
   "metadata": {},
   "outputs": [
    {
     "name": "stdout",
     "output_type": "stream",
     "text": [
      "n_categories = 18\n",
      "['Arabic', 'Chinese', 'Czech', 'Dutch', 'English', 'French', 'German', 'Greek', 'Irish', 'Italian', 'Japanese', 'Korean', 'Polish', 'Portuguese', 'Russian', 'Scottish', 'Spanish', 'Vietnamese']\n"
     ]
    }
   ],
   "source": [
    "\n",
    "# Build the category_lines dictionary, a list of names per language\n",
    "category_lines = {}\n",
    "all_categories = []\n",
    "\n",
    "# Read a file and split into lines\n",
    "def readLines(filename):\n",
    "    lines = open(filename).read().strip().split('\\n')\n",
    "    return [unicode_to_ascii(line) for line in lines]\n",
    "\n",
    "# create a list of words for each category\n",
    "for filename in all_filenames:\n",
    "    category = filename.split('/')[-1].split('.')[0]\n",
    "    all_categories.append(category)\n",
    "    category_lines[category] = readLines(filename)\n",
    "\n",
    "n_categories = len(all_categories)\n",
    "print('n_categories =', n_categories)\n",
    "\n",
    "# all_categories contains the keys to iterate over the category_lines dict\n",
    "print(all_categories)"
   ]
  },
  {
   "cell_type": "code",
   "execution_count": 6,
   "metadata": {},
   "outputs": [
    {
     "name": "stdout",
     "output_type": "stream",
     "text": [
      "20\n",
      "Russian name: \n",
      " ['Shirinsky-Shikhmatov'] \n",
      "index: [7318]\n"
     ]
    }
   ],
   "source": [
    "# max length of vectors, iterate within categories and determine max length \n",
    "# w.r.t. all categories\n",
    "category_len = []\n",
    "for category in all_categories:\n",
    "    category_len.append(max([len(chars) for chars in category_lines[category]]))\n",
    "    max_len = max(category_len)\n",
    "\n",
    "print(max_len)\n",
    "# Just to check that there is actually a (Russian) name with length 20\n",
    "print(all_categories[-4],\"name: \\n\" ,\n",
    "      [name for name in category_lines['Russian'] if len(name) == max_len], \"\\nindex:\",\n",
    "      [idx for idx, name in enumerate(category_lines[all_categories[-4]]) if len(name) == max_len])"
   ]
  },
  {
   "cell_type": "markdown",
   "metadata": {},
   "source": [
    "__Creating Tensors__\n",
    " \n",
    "Usually add padding to the character-sequences to normalise length for the CNN input. Avoid this by treating each characters as a 1-hot vector of dimension n_letters."
   ]
  },
  {
   "cell_type": "code",
   "execution_count": 7,
   "metadata": {
    "collapsed": true
   },
   "outputs": [],
   "source": [
    "num_batches = 1 \n",
    "\n",
    "# every letter in a word should be represented by a vector\n",
    "def word_to_tensor(word):\n",
    "    list_of_chars = list(word)\n",
    "    tensor = []\n",
    "    tensor.append([char2idx[char] for char in word])\n",
    "    for i in range(len(word), max_len):\n",
    "        tensor[0].append(char2idx['<PAD>'])\n",
    "    return tensor"
   ]
  },
  {
   "cell_type": "code",
   "execution_count": null,
   "metadata": {},
   "outputs": [],
   "source": []
  },
  {
   "cell_type": "code",
   "execution_count": 8,
   "metadata": {},
   "outputs": [
    {
     "data": {
      "text/plain": [
       "[20, 5, 19, 20, 53, 23, 15, 18, 4, 0, 0, 0, 0, 0, 0, 0, 0, 0, 0, 0]"
      ]
     },
     "execution_count": 8,
     "metadata": {},
     "output_type": "execute_result"
    }
   ],
   "source": [
    "word_to_tensor('test_word')[0]"
   ]
  },
  {
   "cell_type": "markdown",
   "metadata": {},
   "source": [
    "##### Preparing input"
   ]
  },
  {
   "cell_type": "code",
   "execution_count": 9,
   "metadata": {},
   "outputs": [],
   "source": [
    "# all samples\n",
    "# the X input is a list of all tensors, representing all names\n",
    "all_x_input = []\n",
    "for category in all_categories:\n",
    "    for name in category_lines[category]:\n",
    "        all_x_input.append(word_to_tensor(name)[0])\n",
    "\n",
    "# the Y labels are the categories, where arabic is 0 and vietnamese is 17\n",
    "all_y_input = []\n",
    "for idx, category in enumerate(all_categories):\n",
    "    for i in range(0, len(category_lines[category])):\n",
    "        all_y_input.append(idx)\n"
   ]
  },
  {
   "cell_type": "code",
   "execution_count": 10,
   "metadata": {},
   "outputs": [],
   "source": [
    "# the X input is a list of all tensors, representing all names\n",
    "x_input = []\n",
    "for category in all_categories:\n",
    "    for idx in range(70): # 73 is the max for vietnamese\n",
    "        x_input.append(word_to_tensor(category_lines[category][idx-1])[0])\n",
    "\n",
    "# the Y labels are the categories, where arabic is 0 and vietnamese is 17\n",
    "y_input = []\n",
    "for idx, category in enumerate(all_categories):\n",
    "    for i in range(70):\n",
    "        y_input.append(idx)                                                                  "
   ]
  },
  {
   "cell_type": "code",
   "execution_count": 11,
   "metadata": {},
   "outputs": [],
   "source": [
    "all_data = []\n",
    "data = []\n",
    "for idx, _ in enumerate(all_x_input):\n",
    "    all_data.append([all_x_input[idx][:], all_y_input[idx]])\n",
    "\n",
    "for idx, _ in enumerate(x_input):\n",
    "    data.append([x_input[idx][:], y_input[idx]])\n",
    "    \n",
    "from random import shuffle\n",
    "shuffle(all_data)\n",
    "shuffle(data)\n"
   ]
  },
  {
   "cell_type": "code",
   "execution_count": 12,
   "metadata": {},
   "outputs": [
    {
     "data": {
      "text/plain": [
       "20074"
      ]
     },
     "execution_count": 12,
     "metadata": {},
     "output_type": "execute_result"
    }
   ],
   "source": [
    "len(all_data)"
   ]
  },
  {
   "cell_type": "code",
   "execution_count": 13,
   "metadata": {},
   "outputs": [
    {
     "name": "stdout",
     "output_type": "stream",
     "text": [
      "[70, 70, 70, 70, 70, 70, 70, 70, 70, 70, 70, 70, 70, 70, 70, 70, 70, 70]\n",
      "1260\n",
      "1260\n"
     ]
    }
   ],
   "source": [
    "# check which classes are represented in a slice\n",
    "category_occurence = [0]*n_categories\n",
    "for _, category in data:\n",
    "    category_occurence[category] += 1\n",
    "print(category_occurence)\n",
    "print(n_categories * 70)\n",
    "print(len(data))"
   ]
  },
  {
   "cell_type": "code",
   "execution_count": 14,
   "metadata": {},
   "outputs": [
    {
     "data": {
      "text/html": [
       "<div>\n",
       "<style>\n",
       "    .dataframe thead tr:only-child th {\n",
       "        text-align: right;\n",
       "    }\n",
       "\n",
       "    .dataframe thead th {\n",
       "        text-align: left;\n",
       "    }\n",
       "\n",
       "    .dataframe tbody tr th {\n",
       "        vertical-align: top;\n",
       "    }\n",
       "</style>\n",
       "<table border=\"1\" class=\"dataframe\">\n",
       "  <thead>\n",
       "    <tr style=\"text-align: right;\">\n",
       "      <th></th>\n",
       "      <th>Category</th>\n",
       "      <th>num_examples</th>\n",
       "    </tr>\n",
       "  </thead>\n",
       "  <tbody>\n",
       "    <tr>\n",
       "      <th>0</th>\n",
       "      <td>Arabic</td>\n",
       "      <td>70</td>\n",
       "    </tr>\n",
       "    <tr>\n",
       "      <th>1</th>\n",
       "      <td>Chinese</td>\n",
       "      <td>70</td>\n",
       "    </tr>\n",
       "    <tr>\n",
       "      <th>2</th>\n",
       "      <td>Czech</td>\n",
       "      <td>70</td>\n",
       "    </tr>\n",
       "    <tr>\n",
       "      <th>3</th>\n",
       "      <td>Dutch</td>\n",
       "      <td>70</td>\n",
       "    </tr>\n",
       "    <tr>\n",
       "      <th>4</th>\n",
       "      <td>English</td>\n",
       "      <td>70</td>\n",
       "    </tr>\n",
       "    <tr>\n",
       "      <th>5</th>\n",
       "      <td>French</td>\n",
       "      <td>70</td>\n",
       "    </tr>\n",
       "    <tr>\n",
       "      <th>6</th>\n",
       "      <td>German</td>\n",
       "      <td>70</td>\n",
       "    </tr>\n",
       "    <tr>\n",
       "      <th>7</th>\n",
       "      <td>Greek</td>\n",
       "      <td>70</td>\n",
       "    </tr>\n",
       "    <tr>\n",
       "      <th>8</th>\n",
       "      <td>Irish</td>\n",
       "      <td>70</td>\n",
       "    </tr>\n",
       "    <tr>\n",
       "      <th>9</th>\n",
       "      <td>Italian</td>\n",
       "      <td>70</td>\n",
       "    </tr>\n",
       "    <tr>\n",
       "      <th>10</th>\n",
       "      <td>Japanese</td>\n",
       "      <td>70</td>\n",
       "    </tr>\n",
       "    <tr>\n",
       "      <th>11</th>\n",
       "      <td>Korean</td>\n",
       "      <td>70</td>\n",
       "    </tr>\n",
       "    <tr>\n",
       "      <th>12</th>\n",
       "      <td>Polish</td>\n",
       "      <td>70</td>\n",
       "    </tr>\n",
       "    <tr>\n",
       "      <th>13</th>\n",
       "      <td>Portuguese</td>\n",
       "      <td>70</td>\n",
       "    </tr>\n",
       "    <tr>\n",
       "      <th>14</th>\n",
       "      <td>Russian</td>\n",
       "      <td>70</td>\n",
       "    </tr>\n",
       "    <tr>\n",
       "      <th>15</th>\n",
       "      <td>Scottish</td>\n",
       "      <td>70</td>\n",
       "    </tr>\n",
       "    <tr>\n",
       "      <th>16</th>\n",
       "      <td>Spanish</td>\n",
       "      <td>70</td>\n",
       "    </tr>\n",
       "    <tr>\n",
       "      <th>17</th>\n",
       "      <td>Vietnamese</td>\n",
       "      <td>70</td>\n",
       "    </tr>\n",
       "  </tbody>\n",
       "</table>\n",
       "</div>"
      ],
      "text/plain": [
       "      Category  num_examples\n",
       "0       Arabic            70\n",
       "1      Chinese            70\n",
       "2        Czech            70\n",
       "3        Dutch            70\n",
       "4      English            70\n",
       "5       French            70\n",
       "6       German            70\n",
       "7        Greek            70\n",
       "8        Irish            70\n",
       "9      Italian            70\n",
       "10    Japanese            70\n",
       "11      Korean            70\n",
       "12      Polish            70\n",
       "13  Portuguese            70\n",
       "14     Russian            70\n",
       "15    Scottish            70\n",
       "16     Spanish            70\n",
       "17  Vietnamese            70"
      ]
     },
     "execution_count": 14,
     "metadata": {},
     "output_type": "execute_result"
    }
   ],
   "source": [
    "import pandas as pd\n",
    "\n",
    "dataframe = {\n",
    "    'Category' : [i for i in all_categories],\n",
    "    'num_examples': [category for category in category_occurence]\n",
    "}\n",
    "\n",
    "pd.DataFrame(dataframe)"
   ]
  },
  {
   "cell_type": "markdown",
   "metadata": {},
   "source": [
    "#### CNN model\n",
    "* 2 convolutional layers\n",
    "* 2 pooling"
   ]
  },
  {
   "cell_type": "code",
   "execution_count": 80,
   "metadata": {
    "collapsed": true
   },
   "outputs": [],
   "source": [
    "class CNN(nn.Module):\n",
    "    def __init__(self, input_size, output_size, embedding_size):\n",
    "        super(CNN, self).__init__()\n",
    "        \n",
    "        # Embedding\n",
    "        self.embedding = nn.Embedding(input_size, embedding_size)\n",
    "        \n",
    "        # Convolution 1\n",
    "        self.cnn1 = nn.Conv2d(in_channels=1, out_channels=100, kernel_size=(2,n_letters), stride=1)\n",
    "        self.activation1 = nn.ReLU()\n",
    "        self.maxpool1 = nn.AdaptiveMaxPool2d((3,1), return_indices=False)\n",
    "        \n",
    "        # Convolution2\n",
    "        self.cnn2 = nn.Conv2d(in_channels=1, out_channels=1, kernel_size=2,stride=1)\n",
    "        self.activation2 = nn.ReLU()\n",
    "        self.maxpool2 = nn.AdaptiveMaxPool2d(2)\n",
    "        \n",
    "        '''# Convolution3\n",
    "        self.cnn3 = nn.Conv2d(in_channels=1, out_channels=1, kernel_size=(2,n_letters), stride=1)\n",
    "        self.activation3 = nn.ReLU()\n",
    "        self.maxpool3 = nn.AdaptiveMaxPool2d((2,1))\n",
    "        \n",
    "        # Convolution4\n",
    "        self.cnn4 = nn.Conv2d(in_channels=1, out_channels=1, kernel_size=(2,n_letters), stride=1)\n",
    "        self.activation4 = nn.ReLU()\n",
    "        self.maxpool4 = nn.AdaptiveMaxPool2d((2,1))\n",
    "        \n",
    "        # Convolution5\n",
    "        self.cnn5 = nn.Conv2d(in_channels=1, out_channels=1, kernel_size=(2,n_letters), stride=1)\n",
    "        self.activation5 = nn.ReLU()\n",
    "        self.maxpool5 = nn.AdaptiveMaxPool2d((2,1))\n",
    "        \n",
    "        # Convolution6\n",
    "        self.cnn6 = nn.Conv2d(in_channels=1, out_channels=1, kernel_size=(2,n_letters), stride=1)\n",
    "        self.activation6 = nn.ReLU()\n",
    "        self.maxpool6 = nn.AdaptiveMaxPool2d((2,1))\n",
    "        \n",
    "        # Convolution7\n",
    "        self.cnn7 = nn.Conv2d(in_channels=1, out_channels=1, kernel_size=(2,n_letters), stride=1)\n",
    "        self.activation7 = nn.ReLU()\n",
    "        self.maxpool7 = nn.AdaptiveMaxPool2d((2,1))'''\n",
    "\n",
    "        # Fully connected \n",
    "        self.fc = nn.Linear(300, output_size) # n * channels, outputsize\n",
    "        \n",
    "        \n",
    "    def forward(self, x):\n",
    "        if p:\n",
    "            print(x.size())\n",
    "        x = self.embedding(x)\n",
    "        if p:\n",
    "            print(x.size())\n",
    "        x = x.unsqueeze(0)\n",
    "        x = self.cnn1(x)\n",
    "        x = self.activation1(x) + x\n",
    "        x = self.maxpool1(x)\n",
    "        if p:\n",
    "            print(x.size())\n",
    "            \n",
    "        \n",
    "        '''x = self.cnn2(x)\n",
    "        x = self.activation2(x) + x\n",
    "        x = self.maxpool2(x)\n",
    "        \n",
    "        x = self.cnn3(x)\n",
    "        x = self.activation3(x)\n",
    "        x = self.maxpool3(x)\n",
    "        if p:\n",
    "            print(x.size())\n",
    "        x = self.cnn4(x)\n",
    "        x = self.activation4(x)\n",
    "        x = self.maxpool4(x)\n",
    "        if p:\n",
    "            print(x.size())\n",
    "        x = self.cnn5(x)\n",
    "        x = self.activation5(x)\n",
    "        x = self.maxpool5(x)\n",
    "        if p:\n",
    "            print(x.size())\n",
    "        x = self.cnn6(x)\n",
    "        x = self.activation6(x)\n",
    "        x = self.maxpool6(x)\n",
    "        if p:\n",
    "            print(x.size())\n",
    "        x = self.cnn7(x)\n",
    "        x = self.activation7(x)\n",
    "        x = self.maxpool7(x)\n",
    "        if p:\n",
    "            print(x.size())'''\n",
    "        \n",
    "        # Resize\n",
    "        # - original size: [wordlength - 1, batch_size, possible_bigrams: 69]\n",
    "        # - x.size\n",
    "        # - new output size: [wordlength - 1, batch_size, possible_bigrams: 69]\n",
    "        #x = x.view(x.size(0),-1)\n",
    "        x = x.view(1,-1)\n",
    "        if p:\n",
    "            print('view',x.size())\n",
    "        x = self.fc(x)\n",
    "        if p:\n",
    "            print('linear:',x.size())\n",
    "        \n",
    "        return x"
   ]
  },
  {
   "cell_type": "markdown",
   "metadata": {},
   "source": [
    "__Kernel size__\n",
    "* $O = \\frac{W-K+2P}{S}+1$\n",
    "  * $O$: output heigth/length\n",
    "  * $W$: input height/length\n",
    "  * $K$: kernel size\n",
    "  * $P$: padding\n",
    "    * $ P = \\frac{K-1}{2}$\n",
    "  * $S$: Stride\n",
    "* $O$ = len(word_to_bigrams)"
   ]
  },
  {
   "cell_type": "code",
   "execution_count": 81,
   "metadata": {
    "collapsed": true
   },
   "outputs": [],
   "source": [
    "\n",
    "# output_size = 18 classes\n",
    "# input_size = 69 different tokens\n",
    "# embedding_size = 69 different tokens?\n",
    "\n",
    "model = CNN(n_letters, 18, n_letters)\n",
    "if torch.cuda.is_available():\n",
    "    model.cuda()"
   ]
  },
  {
   "cell_type": "code",
   "execution_count": 82,
   "metadata": {
    "collapsed": true
   },
   "outputs": [],
   "source": [
    "#define some parameters\n",
    "\n",
    "epochs = 100\n",
    "batch_size = 32\n",
    "learning_rate = 0.01\n",
    "momentum = 0.9\n",
    "\n",
    "\n",
    "#define loss and optimizer\n",
    "\n",
    "criterion = nn.CrossEntropyLoss() #cross entropy loss = log softmax + NLL loss\n",
    "optimizer = optim.Adam(model.parameters())"
   ]
  },
  {
   "cell_type": "code",
   "execution_count": 83,
   "metadata": {
    "collapsed": true
   },
   "outputs": [],
   "source": [
    "#for plotting\n",
    "\n",
    "plot_loss = []\n",
    "plot_correct = []"
   ]
  },
  {
   "cell_type": "code",
   "execution_count": 84,
   "metadata": {},
   "outputs": [
    {
     "data": {
      "text/plain": [
       "\"\\nprint(model.parameters())\\nprint(len(list(model.parameters())))\\nprint('Conv1 kernels:\\n',list(model.parameters())[0].size())\\nprint('Conv1 bias kernels:\\n',list(model.parameters())[1].size())\\nprint('Conv2 kernels (depth 16):\\n',list(model.parameters())[2].size())\\nprint('Conv2 bias kernels:\\n',list(model.parameters())[3].size())\\nprint('Fully connected layer:\\n',list(model.parameters())[4].size())\\nprint('Fully connected bias:\\n',list(model.parameters())[5].size())\""
      ]
     },
     "execution_count": 84,
     "metadata": {},
     "output_type": "execute_result"
    }
   ],
   "source": [
    "# Considering a cuda model, otherwise remove .cpu() or write if/else \n",
    "'''\n",
    "print(model.parameters())\n",
    "print(len(list(model.parameters())))\n",
    "print('Conv1 kernels:\\n',list(model.parameters())[0].size())\n",
    "print('Conv1 bias kernels:\\n',list(model.parameters())[1].size())\n",
    "print('Conv2 kernels (depth 16):\\n',list(model.parameters())[2].size())\n",
    "print('Conv2 bias kernels:\\n',list(model.parameters())[3].size())\n",
    "print('Fully connected layer:\\n',list(model.parameters())[4].size())\n",
    "print('Fully connected bias:\\n',list(model.parameters())[5].size())'''\n"
   ]
  },
  {
   "cell_type": "code",
   "execution_count": 85,
   "metadata": {
    "collapsed": true
   },
   "outputs": [],
   "source": [
    "def train(model, criterion, optimizer, x, y):\n",
    "    \n",
    "    # reset gradient\n",
    "    optimizer.zero_grad()\n",
    "\n",
    "    # forward pass\n",
    "    fx = model.forward(x)\n",
    "    \n",
    "    # get the loss\n",
    "    loss = criterion(fx, y)\n",
    "\n",
    "    # backward pass\n",
    "    loss.backward()\n",
    "\n",
    "    # update parameters\n",
    "    optimizer.step()\n",
    "\n",
    "    # return the actual loss data, not the Variable\n",
    "    return loss.data[0]"
   ]
  },
  {
   "cell_type": "code",
   "execution_count": 86,
   "metadata": {},
   "outputs": [],
   "source": [
    "def predict(model, x, y):\n",
    "    outputs = model(x)\n",
    "    _, predicted = torch.max(outputs.data, 1) #for each output, get the predicted value (torch.max returns (index, value) tuple)\n",
    "    correct = (predicted == y) #how many predicted values equal the labels\n",
    "    return correct.sum()"
   ]
  },
  {
   "cell_type": "code",
   "execution_count": 88,
   "metadata": {},
   "outputs": [
    {
     "name": "stdout",
     "output_type": "stream",
     "text": [
      "Epoch 01, loss = 0.813556, accuracy = 79.29%\n",
      "Epoch 02, loss = 0.676464, accuracy = 83.89%\n",
      "Epoch 03, loss = 0.592880, accuracy = 84.84%\n",
      "Epoch 04, loss = 0.535356, accuracy = 86.83%\n",
      "Epoch 05, loss = 0.511990, accuracy = 87.94%\n",
      "Epoch 06, loss = 0.496580, accuracy = 86.98%\n",
      "Epoch 07, loss = 0.471511, accuracy = 87.54%\n",
      "Epoch 08, loss = 0.437641, accuracy = 87.22%\n",
      "Epoch 09, loss = 0.444343, accuracy = 89.68%\n",
      "Epoch 10, loss = 0.458156, accuracy = 88.41%\n",
      "Epoch 11, loss = 0.430749, accuracy = 88.81%\n",
      "Epoch 12, loss = 0.404073, accuracy = 90.87%\n",
      "Epoch 13, loss = 0.410571, accuracy = 89.84%\n",
      "Epoch 14, loss = 0.395653, accuracy = 90.16%\n",
      "Epoch 15, loss = 0.398009, accuracy = 90.00%\n",
      "Epoch 16, loss = 0.375678, accuracy = 90.24%\n",
      "Epoch 17, loss = 0.365372, accuracy = 91.35%\n",
      "Epoch 18, loss = 0.389851, accuracy = 90.79%\n",
      "Epoch 19, loss = 0.386565, accuracy = 91.19%\n",
      "Epoch 20, loss = 0.344283, accuracy = 91.59%\n",
      "Epoch 21, loss = 0.363109, accuracy = 92.06%\n",
      "Epoch 22, loss = 0.349799, accuracy = 92.62%\n",
      "Epoch 23, loss = 0.340156, accuracy = 91.98%\n",
      "Epoch 24, loss = 0.362014, accuracy = 90.87%\n",
      "Epoch 25, loss = 0.342849, accuracy = 92.94%\n",
      "Epoch 26, loss = 0.354809, accuracy = 92.38%\n",
      "Epoch 27, loss = 0.350401, accuracy = 90.24%\n",
      "Epoch 28, loss = 0.381304, accuracy = 91.98%\n",
      "Epoch 29, loss = 0.327101, accuracy = 91.11%\n",
      "Epoch 30, loss = 0.323221, accuracy = 91.75%\n",
      "Epoch 31, loss = 0.312018, accuracy = 92.62%\n",
      "Epoch 32, loss = 0.334854, accuracy = 91.75%\n",
      "Epoch 33, loss = 0.361644, accuracy = 91.90%\n",
      "Epoch 34, loss = 0.323739, accuracy = 91.67%\n",
      "Epoch 35, loss = 0.317558, accuracy = 93.65%\n",
      "Epoch 36, loss = 0.304364, accuracy = 93.73%\n",
      "Epoch 37, loss = 0.307538, accuracy = 92.14%\n",
      "Epoch 38, loss = 0.351493, accuracy = 89.68%\n",
      "Epoch 39, loss = 0.330405, accuracy = 92.14%\n",
      "Epoch 40, loss = 0.288585, accuracy = 92.22%\n",
      "Epoch 41, loss = 0.340407, accuracy = 89.05%\n",
      "Epoch 42, loss = 0.303974, accuracy = 92.14%\n",
      "Epoch 43, loss = 0.293488, accuracy = 92.46%\n",
      "Epoch 44, loss = 0.295242, accuracy = 92.22%\n",
      "Epoch 45, loss = 0.309583, accuracy = 92.54%\n",
      "Epoch 46, loss = 0.287672, accuracy = 92.30%\n",
      "Epoch 47, loss = 0.285145, accuracy = 91.90%\n",
      "Epoch 48, loss = 0.277651, accuracy = 92.78%\n",
      "Epoch 49, loss = 0.297661, accuracy = 92.78%\n",
      "Epoch 50, loss = 0.295673, accuracy = 91.98%\n",
      "Epoch 51, loss = 0.307665, accuracy = 92.14%\n",
      "Epoch 52, loss = 0.300720, accuracy = 90.71%\n",
      "Epoch 53, loss = 0.252738, accuracy = 91.90%\n",
      "Epoch 54, loss = 0.261277, accuracy = 92.06%\n",
      "Epoch 55, loss = 0.275062, accuracy = 92.54%\n",
      "Epoch 56, loss = 0.280645, accuracy = 91.83%\n",
      "Epoch 57, loss = 0.284991, accuracy = 92.38%\n",
      "Epoch 58, loss = 0.298963, accuracy = 93.17%\n",
      "Epoch 59, loss = 0.257613, accuracy = 93.65%\n",
      "Epoch 60, loss = 0.250272, accuracy = 90.95%\n",
      "Epoch 61, loss = 0.265851, accuracy = 93.33%\n",
      "Epoch 62, loss = 0.255663, accuracy = 93.41%\n",
      "Epoch 63, loss = 0.265670, accuracy = 92.86%\n",
      "Epoch 64, loss = 0.255641, accuracy = 92.78%\n",
      "Epoch 65, loss = 0.247297, accuracy = 93.10%\n",
      "Epoch 66, loss = 0.270451, accuracy = 93.89%\n",
      "Epoch 67, loss = 0.252905, accuracy = 92.30%\n",
      "Epoch 68, loss = 0.267985, accuracy = 91.59%\n",
      "Epoch 69, loss = 0.244565, accuracy = 93.41%\n",
      "Epoch 70, loss = 0.238892, accuracy = 93.57%\n",
      "Epoch 71, loss = 0.248741, accuracy = 92.86%\n",
      "Epoch 72, loss = 0.268874, accuracy = 92.22%\n",
      "Epoch 73, loss = 0.264844, accuracy = 93.25%\n",
      "Epoch 74, loss = 0.261253, accuracy = 92.62%\n",
      "Epoch 75, loss = 0.219267, accuracy = 94.13%\n",
      "Epoch 76, loss = 0.215683, accuracy = 94.68%\n",
      "Epoch 77, loss = 0.229506, accuracy = 94.05%\n",
      "Epoch 78, loss = 0.230621, accuracy = 91.03%\n",
      "Epoch 79, loss = 0.294244, accuracy = 91.35%\n",
      "Epoch 80, loss = 0.232108, accuracy = 94.29%\n",
      "Epoch 81, loss = 0.232879, accuracy = 93.97%\n",
      "Epoch 82, loss = 0.243517, accuracy = 93.49%\n",
      "Epoch 83, loss = 0.235020, accuracy = 93.65%\n",
      "Epoch 84, loss = 0.224744, accuracy = 90.95%\n",
      "Epoch 85, loss = 0.273282, accuracy = 94.60%\n",
      "Epoch 86, loss = 0.204203, accuracy = 94.68%\n",
      "Epoch 87, loss = 0.214677, accuracy = 94.37%\n",
      "Epoch 88, loss = 0.230879, accuracy = 93.02%\n",
      "Epoch 89, loss = 0.233462, accuracy = 94.05%\n",
      "Epoch 90, loss = 0.210721, accuracy = 93.89%\n",
      "Epoch 91, loss = 0.233017, accuracy = 94.29%\n",
      "Epoch 92, loss = 0.224540, accuracy = 94.13%\n",
      "Epoch 93, loss = 0.259635, accuracy = 93.02%\n",
      "Epoch 94, loss = 0.267564, accuracy = 94.44%\n",
      "Epoch 95, loss = 0.203288, accuracy = 94.84%\n",
      "Epoch 96, loss = 0.195612, accuracy = 94.68%\n",
      "Epoch 97, loss = 0.206040, accuracy = 94.60%\n",
      "Epoch 98, loss = 0.209924, accuracy = 93.97%\n",
      "Epoch 99, loss = 0.251640, accuracy = 92.30%\n",
      "Epoch 100, loss = 0.279099, accuracy = 94.68%\n"
     ]
    }
   ],
   "source": [
    "iter = 0 \n",
    "p = False            # print sizes of tensors\n",
    "test_examples = len(data)\n",
    "for e in range(1, epochs+1):\n",
    "    loss = 0.\n",
    "    correct = 0.\n",
    "    model.train()\n",
    "    for i, _ in enumerate(data):\n",
    "        if torch.cuda.is_available():\n",
    "            x = Variable(torch.LongTensor([data[i][0]]), requires_grad=False).cuda() #converts list of indices to tensor of indices\n",
    "            y = Variable(torch.LongTensor([data[i][1]]), requires_grad=False).cuda()\n",
    "        else:\n",
    "            x = Variable(torch.LongTensor([data[i][0]]), requires_grad=False)\n",
    "            y = Variable(torch.LongTensor([data[i][1]]), requires_grad=False)\n",
    "        loss += train(model, criterion, optimizer, x, y)\n",
    "    \n",
    "    model.eval()\n",
    "    for i, _ in enumerate(data[-test_examples:]):\n",
    "        if torch.cuda.is_available():\n",
    "            x = Variable(torch.LongTensor([data[i][0]]), requires_grad=False).cuda() #converts list of indices to tensor of indices\n",
    "            y = torch.LongTensor([data[i][1]]).cuda()\n",
    "        else:\n",
    "            x = Variable(torch.LongTensor([data[i][0]]), requires_grad=False)\n",
    "            y = torch.LongTensor([data[i][1]])    \n",
    "        correct += predict(model, x, y)\n",
    "    \n",
    "    plot_loss.append(loss/len(data))\n",
    "    plot_correct.append(correct/test_examples*100)\n",
    "    print(\"Epoch %02d, loss = %f, accuracy = %.2f%%\" % (e, loss / len(data), correct/test_examples*100))"
   ]
  },
  {
   "cell_type": "code",
   "execution_count": 89,
   "metadata": {},
   "outputs": [
    {
     "data": {
      "text/plain": [
       "[<matplotlib.lines.Line2D at 0x7fba855eeeb8>]"
      ]
     },
     "execution_count": 89,
     "metadata": {},
     "output_type": "execute_result"
    },
    {
     "data": {
      "image/png": "[encoded data removed]",
      "text/plain": [
       "<matplotlib.figure.Figure at 0x7fba85e096a0>"
      ]
     },
     "metadata": {},
     "output_type": "display_data"
    }
   ],
   "source": [
    "import matplotlib.pyplot as plt\n",
    "import matplotlib.ticker as ticker\n",
    "%matplotlib inline\n",
    "\n",
    "plt.figure()\n",
    "plt.xlabel('Epoch')\n",
    "plt.ylabel('Loss per Epoch (on Test set)')\n",
    "plt.plot(plot_loss)"
   ]
  },
  {
   "cell_type": "code",
   "execution_count": 90,
   "metadata": {},
   "outputs": [
    {
     "data": {
      "image/png": "[encoded data removed]",
      "text/plain": [
       "<matplotlib.figure.Figure at 0x7fba855ff080>"
      ]
     },
     "metadata": {},
     "output_type": "display_data"
    }
   ],
   "source": [
    "plt.plot(plot_correct)\n",
    "plt.xlabel('Epoch')\n",
    "plt.ylabel('Accuracy per Epoch (on Test Set)')\n",
    "plt.show()"
   ]
  },
  {
   "cell_type": "code",
   "execution_count": 91,
   "metadata": {
    "collapsed": true
   },
   "outputs": [],
   "source": [
    "p = False"
   ]
  },
  {
   "cell_type": "code",
   "execution_count": 94,
   "metadata": {
    "collapsed": true
   },
   "outputs": [],
   "source": [
    "import random\n",
    "'''def random_training_pair():                                                                                                          \n",
    "    category = random.choice(all_categories)\n",
    "    line = random.choice(category_lines[category])\n",
    "    if torch.cuda.is_available():\n",
    "        category_tensor = Variable(torch.LongTensor([all_categories.index(category)]).unsqueeze(0)).cuda()\n",
    "        line_tensor = Variable(torch.LongTensor(word_to_tensor(line)[0]).unsqueeze(0), requires_grad=False).cuda()\n",
    "    else:\n",
    "        category_tensor = Variable(torch.LongTensor([all_categories.index(category)]))\n",
    "        line_tensor = Variable(torch.LongTensor(word_to_tensor(line)[0]), requires_grad=False)\n",
    "    return category, line, category_tensor, line_tensor'''\n",
    "def random_training_pair():\n",
    "    choice = random.choice(data)\n",
    "    line, category = choice\n",
    "    if torch.cuda.is_available():\n",
    "        category_tensor = torch.LongTensor(category).cuda()\n",
    "        line_tensor = torch.LongTensor(line).cuda()\n",
    "    else:\n",
    "        category_tensor = Variable(torch.LongTensor([all_categories.index(category)]))\n",
    "        line_tensor = Variable(torch.LongTensor(word_to_tensor(line)[0]), requires_grad=False)\n",
    "    #print(line,category)\n",
    "    return category, line, [category_tensor], line_tensor\n",
    "\n",
    "\n",
    "def category_from_output(output):\n",
    "    top_n, top_i = output.data.topk(1) # Tensor out of Variable with .data\n",
    "    category_i = top_i[0][0]\n",
    "    return all_categories[category_i], category_i"
   ]
  },
  {
   "cell_type": "code",
   "execution_count": 95,
   "metadata": {},
   "outputs": [],
   "source": [
    "# Keep track of correct guesses in a confusion matrix\n",
    "confusion = torch.zeros(n_categories, n_categories)\n",
    "n_confusion = 10000\n",
    "\n",
    "# Go through a bunch of examples and record which are correctly guessed\n",
    "for i in range(n_confusion):\n",
    "    category, line, category_tensor, line_tensor = random_training_pair()\n",
    "    line_tensor = Variable(line_tensor).unsqueeze(0)\n",
    "    output = model(line_tensor)\n",
    "    guess, guess_i = category_from_output(output)\n",
    "\n",
    "\n",
    "    confusion[category][guess_i] += 1\n",
    "\n"
   ]
  },
  {
   "cell_type": "code",
   "execution_count": 96,
   "metadata": {},
   "outputs": [
    {
     "data": {
      "image/png": "[encoded data removed]",
      "text/plain": [
       "<matplotlib.figure.Figure at 0x7fba85539f60>"
      ]
     },
     "metadata": {},
     "output_type": "display_data"
    }
   ],
   "source": [
    "# Normalize by dividing every row by its sum\n",
    "for i in range(n_categories):\n",
    "    confusion[i] = confusion[i] / confusion[i].sum()\n",
    "\n",
    "# Set up plot\n",
    "fig = plt.figure()\n",
    "ax = fig.add_subplot(111)\n",
    "cax = ax.matshow(confusion.numpy())\n",
    "fig.colorbar(cax)\n",
    "\n",
    "# Set up axes\n",
    "ax.set_xticklabels([''] + all_categories, rotation=90)\n",
    "ax.set_yticklabels([''] + all_categories)\n",
    "\n",
    "# Force label at every tick\n",
    "ax.xaxis.set_major_locator(ticker.MultipleLocator(1))\n",
    "ax.yaxis.set_major_locator(ticker.MultipleLocator(1))\n",
    "\n",
    "plt.show()"
   ]
  },
  {
   "cell_type": "code",
   "execution_count": 97,
   "metadata": {},
   "outputs": [
    {
     "data": {
      "text/html": [
       "<div>\n",
       "<style>\n",
       "    .dataframe thead tr:only-child th {\n",
       "        text-align: right;\n",
       "    }\n",
       "\n",
       "    .dataframe thead th {\n",
       "        text-align: left;\n",
       "    }\n",
       "\n",
       "    .dataframe tbody tr th {\n",
       "        vertical-align: top;\n",
       "    }\n",
       "</style>\n",
       "<table border=\"1\" class=\"dataframe\">\n",
       "  <thead>\n",
       "    <tr style=\"text-align: right;\">\n",
       "      <th></th>\n",
       "      <th>Category</th>\n",
       "      <th>num_examples</th>\n",
       "    </tr>\n",
       "  </thead>\n",
       "  <tbody>\n",
       "    <tr>\n",
       "      <th>0</th>\n",
       "      <td>Arabic</td>\n",
       "      <td>70</td>\n",
       "    </tr>\n",
       "    <tr>\n",
       "      <th>1</th>\n",
       "      <td>Chinese</td>\n",
       "      <td>70</td>\n",
       "    </tr>\n",
       "    <tr>\n",
       "      <th>2</th>\n",
       "      <td>Czech</td>\n",
       "      <td>70</td>\n",
       "    </tr>\n",
       "    <tr>\n",
       "      <th>3</th>\n",
       "      <td>Dutch</td>\n",
       "      <td>70</td>\n",
       "    </tr>\n",
       "    <tr>\n",
       "      <th>4</th>\n",
       "      <td>English</td>\n",
       "      <td>70</td>\n",
       "    </tr>\n",
       "    <tr>\n",
       "      <th>5</th>\n",
       "      <td>French</td>\n",
       "      <td>70</td>\n",
       "    </tr>\n",
       "    <tr>\n",
       "      <th>6</th>\n",
       "      <td>German</td>\n",
       "      <td>70</td>\n",
       "    </tr>\n",
       "    <tr>\n",
       "      <th>7</th>\n",
       "      <td>Greek</td>\n",
       "      <td>70</td>\n",
       "    </tr>\n",
       "    <tr>\n",
       "      <th>8</th>\n",
       "      <td>Irish</td>\n",
       "      <td>70</td>\n",
       "    </tr>\n",
       "    <tr>\n",
       "      <th>9</th>\n",
       "      <td>Italian</td>\n",
       "      <td>70</td>\n",
       "    </tr>\n",
       "    <tr>\n",
       "      <th>10</th>\n",
       "      <td>Japanese</td>\n",
       "      <td>70</td>\n",
       "    </tr>\n",
       "    <tr>\n",
       "      <th>11</th>\n",
       "      <td>Korean</td>\n",
       "      <td>70</td>\n",
       "    </tr>\n",
       "    <tr>\n",
       "      <th>12</th>\n",
       "      <td>Polish</td>\n",
       "      <td>70</td>\n",
       "    </tr>\n",
       "    <tr>\n",
       "      <th>13</th>\n",
       "      <td>Portuguese</td>\n",
       "      <td>70</td>\n",
       "    </tr>\n",
       "    <tr>\n",
       "      <th>14</th>\n",
       "      <td>Russian</td>\n",
       "      <td>70</td>\n",
       "    </tr>\n",
       "    <tr>\n",
       "      <th>15</th>\n",
       "      <td>Scottish</td>\n",
       "      <td>70</td>\n",
       "    </tr>\n",
       "    <tr>\n",
       "      <th>16</th>\n",
       "      <td>Spanish</td>\n",
       "      <td>70</td>\n",
       "    </tr>\n",
       "    <tr>\n",
       "      <th>17</th>\n",
       "      <td>Vietnamese</td>\n",
       "      <td>70</td>\n",
       "    </tr>\n",
       "  </tbody>\n",
       "</table>\n",
       "</div>"
      ],
      "text/plain": [
       "      Category  num_examples\n",
       "0       Arabic            70\n",
       "1      Chinese            70\n",
       "2        Czech            70\n",
       "3        Dutch            70\n",
       "4      English            70\n",
       "5       French            70\n",
       "6       German            70\n",
       "7        Greek            70\n",
       "8        Irish            70\n",
       "9      Italian            70\n",
       "10    Japanese            70\n",
       "11      Korean            70\n",
       "12      Polish            70\n",
       "13  Portuguese            70\n",
       "14     Russian            70\n",
       "15    Scottish            70\n",
       "16     Spanish            70\n",
       "17  Vietnamese            70"
      ]
     },
     "execution_count": 97,
     "metadata": {},
     "output_type": "execute_result"
    }
   ],
   "source": [
    "dataframe = {\n",
    "    'Category' : [i for i in all_categories],\n",
    "    'num_examples': [category for category in category_occurence]\n",
    "}\n",
    "\n",
    "pd.DataFrame(dataframe)"
   ]
  },
  {
   "cell_type": "code",
   "execution_count": 106,
   "metadata": {},
   "outputs": [],
   "source": [
    "def predict_from_input(input_line, n_predictions=3):\n",
    "    print('\\n> %s' % input_line)\n",
    "    # Need to add some padding\n",
    "    # while len(input_line) < max_len:\n",
    "    #    input_line +='<PAD>'\n",
    "    if torch.cuda.is_available():\n",
    "        x = Variable(torch.LongTensor(word_to_tensor(input_line)), requires_grad=False).cuda()\n",
    "    else:\n",
    "        x = Variable(torch.LongTensor(word_to_tensor(input_line)), requires_grad=False)\n",
    "    outputs = model(x)    \n",
    "    \n",
    "    # Get top N categories\n",
    "    \n",
    "    topv, topi = outputs.data.topk(n_predictions, 1, True)\n",
    "    topv, topi = outputs.data.topk(n_predictions, 1, True)\n",
    "    predictions = []\n",
    "\n",
    "    for i in range(n_predictions):\n",
    "        value = topv[0][i]\n",
    "        category_index = topi[0][i]\n",
    "        print('(%.2f) %s' % (value, all_categories[category_index]))\n",
    "        predictions.append([value, all_categories[category_index]])\n"
   ]
  },
  {
   "cell_type": "code",
   "execution_count": 125,
   "metadata": {},
   "outputs": [
    {
     "name": "stdout",
     "output_type": "stream",
     "text": [
      "\n",
      "> Smith\n",
      "(1.73) Scottish\n",
      "(-11.58) Vietnamese\n",
      "(-18.09) Korean\n",
      "\n",
      "> Test\n",
      "(-3.11) Vietnamese\n",
      "(-3.86) Scottish\n",
      "(-15.57) Polish\n",
      "\n",
      "> Satoshi\n",
      "(0.12) Japanese\n",
      "(-14.43) Portuguese\n",
      "(-15.42) Arabic\n",
      "\n",
      "> Desmulliez\n",
      "(-10.73) Spanish\n",
      "(-12.06) German\n",
      "(-12.34) French\n",
      "\n",
      "> Konstas\n",
      "(-12.62) Polish\n",
      "(-14.33) French\n",
      "(-14.50) English\n",
      "\n",
      "> Vincent\n",
      "(-17.90) German\n",
      "(-18.81) French\n",
      "(-21.31) Vietnamese\n",
      "\n",
      "> abcdefghijklmnopqrstuvwxyz67584374632ah87a7w4f03\n",
      "(-21.23) Russian\n",
      "(-22.39) Irish\n",
      "(-44.06) Czech\n"
     ]
    }
   ],
   "source": [
    "predict_from_input('Smith')\n",
    "predict_from_input('Test')\n",
    "predict_from_input('Satoshi')\n",
    "\n",
    "predict_from_input('Desmulliez')\n",
    "predict_from_input('Konstas')\n",
    "predict_from_input('Vincent')\n",
    "predict_from_input('abcdefghijklmnopqrstuvwxyz67584374632ah87a7w4f03')\n"
   ]
  },
  {
   "cell_type": "code",
   "execution_count": null,
   "metadata": {
    "collapsed": true
   },
   "outputs": [],
   "source": []
  }
 ],
 "metadata": {
  "kernelspec": {
   "display_name": "Python 3",
   "language": "python",
   "name": "python3"
  },
  "language_info": {
   "codemirror_mode": {
    "name": "ipython",
    "version": 3
   },
   "file_extension": ".py",
   "mimetype": "text/x-python",
   "name": "python",
   "nbconvert_exporter": "python",
   "pygments_lexer": "ipython3",
   "version": "3.6.2"
  }
 },
 "nbformat": 4,
 "nbformat_minor": 2
}
