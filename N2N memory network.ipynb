{
 "cells": [
  {
   "cell_type": "markdown",
   "metadata": {},
   "source": [
    "##### Requirements\n",
    "Reference: _Sukhbaatar, S., Szlam, A., Weston, J., Fergus, R. (2015). End-To-End Memory Networks. arXiv: 1503.08895v5_\n",
    "\n",
    "__Data:__ \n",
    "* BABI dataset\n",
    "\n",
    "__Model:__\n",
    "* RNN with external memory instead of internal memory\n",
    "  * input memory representation: $m_i = \\sum_j Ax_{ij}$\n",
    "    * output memory representation: $c_i = \\sum_j Cx_{ij}$ \n",
    "    * input embedding is an inner product of embedding $q$ and $m_i$\n",
    "      * subsequent input embeddings: $u = u^{k+1} = u^k + o^k$\n",
    "    * output embedding: $o = \\sum_i Softmax(u^T m_i) c_i $\n",
    "    * generate prediction: $\\hat{a} = Softmax(W(o^k + u^k))$\n",
    "  * Adjacent weight tying: \n",
    "    * output embedding reused in next layer: $A^{k+1} = C^{k}$\n",
    "    * question embedding == 1st input embedding: $\\beta = A^1$\n",
    "    * prediction matrix constrained to final output embedding: $W^T = C^K$\n",
    "  * External weight tying:\n",
    "    * input embedding and output embeddings the same: $A^K = C^K$\n",
    "    * add a linear mapping $H$ to update of input embedding: $ u^{k+1} = H u^k + o^k$\n",
    "    \n",
    "__Loss function:__\n",
    "* Standard Cross-Entropy\n",
    "\n",
    "__Optimiser:__\n",
    "* SGD without momentum\n",
    "\n",
    "__Train:__\n",
    "* \n",
    "__Predict:__\n",
    "* \n",
    "__Plots:__\n",
    "* "
   ]
  },
  {
   "cell_type": "code",
   "execution_count": null,
   "metadata": {
    "collapsed": true
   },
   "outputs": [],
   "source": []
  }
 ],
 "metadata": {
  "kernelspec": {
   "display_name": "Python 3",
   "language": "python",
   "name": "python3"
  },
  "language_info": {
   "codemirror_mode": {
    "name": "ipython",
    "version": 3
   },
   "file_extension": ".py",
   "mimetype": "text/x-python",
   "name": "python",
   "nbconvert_exporter": "python",
   "pygments_lexer": "ipython3",
   "version": "3.6.2"
  }
 },
 "nbformat": 4,
 "nbformat_minor": 2
}
